{
 "cells": [
  {
   "source": [
    "# Aluno: Vinícius França Lima Vilaça\n",
    "## Regressão Logística\n",
    "\n",
    "1. A questão 1 busca validar os dados do database utilizado. Primeiramente é necessário validar os tipos de dados, precisando que estes sejam númericos para que seja possível efetuar os cálculos corretamente. Em segundo momento se estuda a escala dos valores, onde é preciso realizar a uniformização dos dados, ou seja, colocar diferentes variáveis na mesma escala,  é interessante que se faça quando estamos lidando com algoritmos baseados no Gradiente Descendente, pois estes algoritmos são sensíveis ao range dos valores dos dados e dessa forma a acurácia do algoritmo irá ser beneficiada pois o limiar de decisão da função logística ficará bem definido. Avalise também a distribuição das classes, assim pode se verificar se o dataset está desbalanceado, ou seja, se o algoritmo pode ser tendencioso ou não. Por fim, caso os dados da classicação não estejam em dados númericos é necessario que se codifique os valores para que seja possível utilizar o classificador.  \n",
    "\n",
    "2. A questão 2 realiza o **feature selection**, que significa buscas as features que possuem os valóres mais precisos e preciosos para o modelo. Dito isto, a correlação das features é estudada, a correlação pode ajudar a predizer um atributo de outro, ou identificar atributos que não interferem no modelo pois não possuem relação com nenhum outro. Correlação pode identificar um problema conhecido como **Multicollinearity** quando uma variável pode ser linearmente predita por outra com um alto grau de precisão, isso pode levar a resultados distorcidos ou enganosos e por isso e por outros problemas é um bom método de avaliação.  \n",
    "\n",
    "3. A questão 3 faz a separação dos dados de treino e teste, essa etapa é importante para evitar um modelo com underfitting ou overfitting. Foi utilizado o método *Cross Validator*, a validação cruzada é uma fusão de StratifiedKFold e ShuffleSplit, que retorna **folds** estratificados aleatórios em que os fold são feitos preservando o percentual de amostras de cada classe.  \n",
    "\n",
    "4. O modelo foi implementado ao final do notbook...  \n",
    "\n",
    "5. A acurácia foi calculada ao final do notbook...\n",
    "\n",
    "\n"
   ],
   "cell_type": "markdown",
   "metadata": {}
  },
  {
   "cell_type": "markdown",
   "metadata": {
    "run_control": {
     "marked": true
    }
   },
   "source": [
    "#  Logistic Regression and Classification Error Metrics"
   ]
  },
  {
   "cell_type": "markdown",
   "metadata": {
    "run_control": {
     "marked": true
    }
   },
   "source": [
    "## Introduction\n",
    "\n",
    "We will be using the [Human Activity Recognition with Smartphones](https://archive.ics.uci.edu/ml/datasets/Human+Activity+Recognition+Using+Smartphones) database, which was built from the recordings of study participants performing activities of daily living (ADL) while carrying a smartphone with an embedded inertial sensors. The objective is to classify activities into one of the six activities (walking, walking upstairs, walking downstairs, sitting, standing, and laying) performed.\n",
    "\n",
    "For each record in the dataset it is provided: \n",
    "\n",
    "- Triaxial acceleration from the accelerometer (total acceleration) and the estimated body acceleration. \n",
    "- Triaxial Angular velocity from the gyroscope. \n",
    "- A 561-feature vector with time and frequency domain variables. \n",
    "- Its activity label. \n",
    "\n",
    "More information about the features is available on the website: above or at https://www.kaggle.com/uciml/human-activity-recognition-with-smartphones "
   ]
  },
  {
   "cell_type": "code",
   "execution_count": 48,
   "metadata": {
    "collapsed": true,
    "run_control": {
     "marked": true
    }
   },
   "outputs": [],
   "source": [
    "from __future__ import print_function\n",
    "import os\n",
    "#Data Path has to be set as per the file location in your system\n",
    "#data_path = ['..', 'data']\n",
    "data_path = ['.']"
   ]
  },
  {
   "cell_type": "markdown",
   "metadata": {
    "run_control": {
     "marked": true
    }
   },
   "source": [
    "## Question 1\n",
    "\n",
    "Import the data and do the following:\n",
    "\n",
    "* Examine the data types--there are many columns, so it might be wise to use value counts\n",
    "* Determine if the floating point values need to be scaled\n",
    "* Determine the breakdown of each activity\n",
    "* Encode the activity label as an integer"
   ]
  },
  {
   "cell_type": "code",
   "execution_count": 50,
   "metadata": {
    "collapsed": true,
    "run_control": {
     "marked": true
    }
   },
   "outputs": [
    {
     "output_type": "execute_result",
     "data": {
      "text/plain": [
       "       tBodyAcc-mean()-X  tBodyAcc-mean()-Y  tBodyAcc-mean()-Z  \\\n",
       "0               0.288585          -0.020294          -0.132905   \n",
       "1               0.278419          -0.016411          -0.123520   \n",
       "2               0.279653          -0.019467          -0.113462   \n",
       "3               0.279174          -0.026201          -0.123283   \n",
       "4               0.276629          -0.016570          -0.115362   \n",
       "...                  ...                ...                ...   \n",
       "10294           0.310155          -0.053391          -0.099109   \n",
       "10295           0.363385          -0.039214          -0.105915   \n",
       "10296           0.349966           0.030077          -0.115788   \n",
       "10297           0.237594           0.018467          -0.096499   \n",
       "10298           0.153627          -0.018437          -0.137018   \n",
       "\n",
       "       tBodyAcc-std()-X  tBodyAcc-std()-Y  tBodyAcc-std()-Z  tBodyAcc-mad()-X  \\\n",
       "0             -0.995279         -0.983111         -0.913526         -0.995112   \n",
       "1             -0.998245         -0.975300         -0.960322         -0.998807   \n",
       "2             -0.995380         -0.967187         -0.978944         -0.996520   \n",
       "3             -0.996091         -0.983403         -0.990675         -0.997099   \n",
       "4             -0.998139         -0.980817         -0.990482         -0.998321   \n",
       "...                 ...               ...               ...               ...   \n",
       "10294         -0.287866         -0.140589         -0.215088         -0.356083   \n",
       "10295         -0.305388          0.028148         -0.196373         -0.373540   \n",
       "10296         -0.329638         -0.042143         -0.250181         -0.388017   \n",
       "10297         -0.323114         -0.229775         -0.207574         -0.392380   \n",
       "10298         -0.330046         -0.195253         -0.164339         -0.430974   \n",
       "\n",
       "       tBodyAcc-mad()-Y  tBodyAcc-mad()-Z  tBodyAcc-max()-X  ...  \\\n",
       "0             -0.983185         -0.923527         -0.934724  ...   \n",
       "1             -0.974914         -0.957686         -0.943068  ...   \n",
       "2             -0.963668         -0.977469         -0.938692  ...   \n",
       "3             -0.982750         -0.989302         -0.938692  ...   \n",
       "4             -0.979672         -0.990441         -0.942469  ...   \n",
       "...                 ...               ...               ...  ...   \n",
       "10294         -0.148775         -0.232057          0.185361  ...   \n",
       "10295         -0.030036         -0.270237          0.185361  ...   \n",
       "10296         -0.133257         -0.347029          0.007471  ...   \n",
       "10297         -0.279610         -0.289477          0.007471  ...   \n",
       "10298         -0.218295         -0.229933         -0.111527  ...   \n",
       "\n",
       "       fBodyBodyGyroJerkMag-skewness()  fBodyBodyGyroJerkMag-kurtosis()  \\\n",
       "0                            -0.298676                        -0.710304   \n",
       "1                            -0.595051                        -0.861499   \n",
       "2                            -0.390748                        -0.760104   \n",
       "3                            -0.117290                        -0.482845   \n",
       "4                            -0.351471                        -0.699205   \n",
       "...                                ...                              ...   \n",
       "10294                        -0.376278                        -0.750809   \n",
       "10295                        -0.320418                        -0.700274   \n",
       "10296                        -0.118854                        -0.467179   \n",
       "10297                        -0.205445                        -0.617737   \n",
       "10298                        -0.072237                        -0.436940   \n",
       "\n",
       "       angle(tBodyAccMean,gravity)  angle(tBodyAccJerkMean),gravityMean)  \\\n",
       "0                        -0.112754                              0.030400   \n",
       "1                         0.053477                             -0.007435   \n",
       "2                        -0.118559                              0.177899   \n",
       "3                        -0.036788                             -0.012892   \n",
       "4                         0.123320                              0.122542   \n",
       "...                            ...                                   ...   \n",
       "10294                    -0.337422                              0.346295   \n",
       "10295                    -0.736701                             -0.372889   \n",
       "10296                    -0.181560                              0.088574   \n",
       "10297                     0.444558                             -0.819188   \n",
       "10298                     0.598808                             -0.287951   \n",
       "\n",
       "       angle(tBodyGyroMean,gravityMean)  angle(tBodyGyroJerkMean,gravityMean)  \\\n",
       "0                             -0.464761                             -0.018446   \n",
       "1                             -0.732626                              0.703511   \n",
       "2                              0.100699                              0.808529   \n",
       "3                              0.640011                             -0.485366   \n",
       "4                              0.693578                             -0.615971   \n",
       "...                                 ...                                   ...   \n",
       "10294                          0.884904                             -0.698885   \n",
       "10295                         -0.657421                              0.322549   \n",
       "10296                          0.696663                              0.363139   \n",
       "10297                          0.929294                             -0.008398   \n",
       "10298                          0.876030                             -0.024965   \n",
       "\n",
       "       angle(X,gravityMean)  angle(Y,gravityMean)  angle(Z,gravityMean)  \\\n",
       "0                 -0.841247              0.179941             -0.058627   \n",
       "1                 -0.844788              0.180289             -0.054317   \n",
       "2                 -0.848933              0.180637             -0.049118   \n",
       "3                 -0.848649              0.181935             -0.047663   \n",
       "4                 -0.847865              0.185151             -0.043892   \n",
       "...                     ...                   ...                   ...   \n",
       "10294             -0.651732              0.274627              0.184784   \n",
       "10295             -0.655181              0.273578              0.182412   \n",
       "10296             -0.655357              0.274479              0.181184   \n",
       "10297             -0.659719              0.264782              0.187563   \n",
       "10298             -0.660080              0.263936              0.188103   \n",
       "\n",
       "               Activity  \n",
       "0              STANDING  \n",
       "1              STANDING  \n",
       "2              STANDING  \n",
       "3              STANDING  \n",
       "4              STANDING  \n",
       "...                 ...  \n",
       "10294  WALKING_UPSTAIRS  \n",
       "10295  WALKING_UPSTAIRS  \n",
       "10296  WALKING_UPSTAIRS  \n",
       "10297  WALKING_UPSTAIRS  \n",
       "10298  WALKING_UPSTAIRS  \n",
       "\n",
       "[10299 rows x 562 columns]"
      ],
      "text/html": "<div>\n<style scoped>\n    .dataframe tbody tr th:only-of-type {\n        vertical-align: middle;\n    }\n\n    .dataframe tbody tr th {\n        vertical-align: top;\n    }\n\n    .dataframe thead th {\n        text-align: right;\n    }\n</style>\n<table border=\"1\" class=\"dataframe\">\n  <thead>\n    <tr style=\"text-align: right;\">\n      <th></th>\n      <th>tBodyAcc-mean()-X</th>\n      <th>tBodyAcc-mean()-Y</th>\n      <th>tBodyAcc-mean()-Z</th>\n      <th>tBodyAcc-std()-X</th>\n      <th>tBodyAcc-std()-Y</th>\n      <th>tBodyAcc-std()-Z</th>\n      <th>tBodyAcc-mad()-X</th>\n      <th>tBodyAcc-mad()-Y</th>\n      <th>tBodyAcc-mad()-Z</th>\n      <th>tBodyAcc-max()-X</th>\n      <th>...</th>\n      <th>fBodyBodyGyroJerkMag-skewness()</th>\n      <th>fBodyBodyGyroJerkMag-kurtosis()</th>\n      <th>angle(tBodyAccMean,gravity)</th>\n      <th>angle(tBodyAccJerkMean),gravityMean)</th>\n      <th>angle(tBodyGyroMean,gravityMean)</th>\n      <th>angle(tBodyGyroJerkMean,gravityMean)</th>\n      <th>angle(X,gravityMean)</th>\n      <th>angle(Y,gravityMean)</th>\n      <th>angle(Z,gravityMean)</th>\n      <th>Activity</th>\n    </tr>\n  </thead>\n  <tbody>\n    <tr>\n      <th>0</th>\n      <td>0.288585</td>\n      <td>-0.020294</td>\n      <td>-0.132905</td>\n      <td>-0.995279</td>\n      <td>-0.983111</td>\n      <td>-0.913526</td>\n      <td>-0.995112</td>\n      <td>-0.983185</td>\n      <td>-0.923527</td>\n      <td>-0.934724</td>\n      <td>...</td>\n      <td>-0.298676</td>\n      <td>-0.710304</td>\n      <td>-0.112754</td>\n      <td>0.030400</td>\n      <td>-0.464761</td>\n      <td>-0.018446</td>\n      <td>-0.841247</td>\n      <td>0.179941</td>\n      <td>-0.058627</td>\n      <td>STANDING</td>\n    </tr>\n    <tr>\n      <th>1</th>\n      <td>0.278419</td>\n      <td>-0.016411</td>\n      <td>-0.123520</td>\n      <td>-0.998245</td>\n      <td>-0.975300</td>\n      <td>-0.960322</td>\n      <td>-0.998807</td>\n      <td>-0.974914</td>\n      <td>-0.957686</td>\n      <td>-0.943068</td>\n      <td>...</td>\n      <td>-0.595051</td>\n      <td>-0.861499</td>\n      <td>0.053477</td>\n      <td>-0.007435</td>\n      <td>-0.732626</td>\n      <td>0.703511</td>\n      <td>-0.844788</td>\n      <td>0.180289</td>\n      <td>-0.054317</td>\n      <td>STANDING</td>\n    </tr>\n    <tr>\n      <th>2</th>\n      <td>0.279653</td>\n      <td>-0.019467</td>\n      <td>-0.113462</td>\n      <td>-0.995380</td>\n      <td>-0.967187</td>\n      <td>-0.978944</td>\n      <td>-0.996520</td>\n      <td>-0.963668</td>\n      <td>-0.977469</td>\n      <td>-0.938692</td>\n      <td>...</td>\n      <td>-0.390748</td>\n      <td>-0.760104</td>\n      <td>-0.118559</td>\n      <td>0.177899</td>\n      <td>0.100699</td>\n      <td>0.808529</td>\n      <td>-0.848933</td>\n      <td>0.180637</td>\n      <td>-0.049118</td>\n      <td>STANDING</td>\n    </tr>\n    <tr>\n      <th>3</th>\n      <td>0.279174</td>\n      <td>-0.026201</td>\n      <td>-0.123283</td>\n      <td>-0.996091</td>\n      <td>-0.983403</td>\n      <td>-0.990675</td>\n      <td>-0.997099</td>\n      <td>-0.982750</td>\n      <td>-0.989302</td>\n      <td>-0.938692</td>\n      <td>...</td>\n      <td>-0.117290</td>\n      <td>-0.482845</td>\n      <td>-0.036788</td>\n      <td>-0.012892</td>\n      <td>0.640011</td>\n      <td>-0.485366</td>\n      <td>-0.848649</td>\n      <td>0.181935</td>\n      <td>-0.047663</td>\n      <td>STANDING</td>\n    </tr>\n    <tr>\n      <th>4</th>\n      <td>0.276629</td>\n      <td>-0.016570</td>\n      <td>-0.115362</td>\n      <td>-0.998139</td>\n      <td>-0.980817</td>\n      <td>-0.990482</td>\n      <td>-0.998321</td>\n      <td>-0.979672</td>\n      <td>-0.990441</td>\n      <td>-0.942469</td>\n      <td>...</td>\n      <td>-0.351471</td>\n      <td>-0.699205</td>\n      <td>0.123320</td>\n      <td>0.122542</td>\n      <td>0.693578</td>\n      <td>-0.615971</td>\n      <td>-0.847865</td>\n      <td>0.185151</td>\n      <td>-0.043892</td>\n      <td>STANDING</td>\n    </tr>\n    <tr>\n      <th>...</th>\n      <td>...</td>\n      <td>...</td>\n      <td>...</td>\n      <td>...</td>\n      <td>...</td>\n      <td>...</td>\n      <td>...</td>\n      <td>...</td>\n      <td>...</td>\n      <td>...</td>\n      <td>...</td>\n      <td>...</td>\n      <td>...</td>\n      <td>...</td>\n      <td>...</td>\n      <td>...</td>\n      <td>...</td>\n      <td>...</td>\n      <td>...</td>\n      <td>...</td>\n      <td>...</td>\n    </tr>\n    <tr>\n      <th>10294</th>\n      <td>0.310155</td>\n      <td>-0.053391</td>\n      <td>-0.099109</td>\n      <td>-0.287866</td>\n      <td>-0.140589</td>\n      <td>-0.215088</td>\n      <td>-0.356083</td>\n      <td>-0.148775</td>\n      <td>-0.232057</td>\n      <td>0.185361</td>\n      <td>...</td>\n      <td>-0.376278</td>\n      <td>-0.750809</td>\n      <td>-0.337422</td>\n      <td>0.346295</td>\n      <td>0.884904</td>\n      <td>-0.698885</td>\n      <td>-0.651732</td>\n      <td>0.274627</td>\n      <td>0.184784</td>\n      <td>WALKING_UPSTAIRS</td>\n    </tr>\n    <tr>\n      <th>10295</th>\n      <td>0.363385</td>\n      <td>-0.039214</td>\n      <td>-0.105915</td>\n      <td>-0.305388</td>\n      <td>0.028148</td>\n      <td>-0.196373</td>\n      <td>-0.373540</td>\n      <td>-0.030036</td>\n      <td>-0.270237</td>\n      <td>0.185361</td>\n      <td>...</td>\n      <td>-0.320418</td>\n      <td>-0.700274</td>\n      <td>-0.736701</td>\n      <td>-0.372889</td>\n      <td>-0.657421</td>\n      <td>0.322549</td>\n      <td>-0.655181</td>\n      <td>0.273578</td>\n      <td>0.182412</td>\n      <td>WALKING_UPSTAIRS</td>\n    </tr>\n    <tr>\n      <th>10296</th>\n      <td>0.349966</td>\n      <td>0.030077</td>\n      <td>-0.115788</td>\n      <td>-0.329638</td>\n      <td>-0.042143</td>\n      <td>-0.250181</td>\n      <td>-0.388017</td>\n      <td>-0.133257</td>\n      <td>-0.347029</td>\n      <td>0.007471</td>\n      <td>...</td>\n      <td>-0.118854</td>\n      <td>-0.467179</td>\n      <td>-0.181560</td>\n      <td>0.088574</td>\n      <td>0.696663</td>\n      <td>0.363139</td>\n      <td>-0.655357</td>\n      <td>0.274479</td>\n      <td>0.181184</td>\n      <td>WALKING_UPSTAIRS</td>\n    </tr>\n    <tr>\n      <th>10297</th>\n      <td>0.237594</td>\n      <td>0.018467</td>\n      <td>-0.096499</td>\n      <td>-0.323114</td>\n      <td>-0.229775</td>\n      <td>-0.207574</td>\n      <td>-0.392380</td>\n      <td>-0.279610</td>\n      <td>-0.289477</td>\n      <td>0.007471</td>\n      <td>...</td>\n      <td>-0.205445</td>\n      <td>-0.617737</td>\n      <td>0.444558</td>\n      <td>-0.819188</td>\n      <td>0.929294</td>\n      <td>-0.008398</td>\n      <td>-0.659719</td>\n      <td>0.264782</td>\n      <td>0.187563</td>\n      <td>WALKING_UPSTAIRS</td>\n    </tr>\n    <tr>\n      <th>10298</th>\n      <td>0.153627</td>\n      <td>-0.018437</td>\n      <td>-0.137018</td>\n      <td>-0.330046</td>\n      <td>-0.195253</td>\n      <td>-0.164339</td>\n      <td>-0.430974</td>\n      <td>-0.218295</td>\n      <td>-0.229933</td>\n      <td>-0.111527</td>\n      <td>...</td>\n      <td>-0.072237</td>\n      <td>-0.436940</td>\n      <td>0.598808</td>\n      <td>-0.287951</td>\n      <td>0.876030</td>\n      <td>-0.024965</td>\n      <td>-0.660080</td>\n      <td>0.263936</td>\n      <td>0.188103</td>\n      <td>WALKING_UPSTAIRS</td>\n    </tr>\n  </tbody>\n</table>\n<p>10299 rows × 562 columns</p>\n</div>"
     },
     "metadata": {},
     "execution_count": 50
    }
   ],
   "source": [
    "import pandas as pd\n",
    "import numpy as np\n",
    "#The filepath is dependent on the data_path set in the previous cell \n",
    "filepath = os.sep.join(data_path + ['data.csv'])\n",
    "data = pd.read_csv(filepath, sep=',')\n",
    "data"
   ]
  },
  {
   "cell_type": "markdown",
   "metadata": {
    "run_control": {
     "marked": true
    }
   },
   "source": [
    "The data columns are all floats except for the activity label."
   ]
  },
  {
   "cell_type": "code",
   "execution_count": 52,
   "metadata": {
    "run_control": {
     "marked": true
    }
   },
   "outputs": [
    {
     "output_type": "execute_result",
     "data": {
      "text/plain": [
       "float64    561\n",
       "object       1\n",
       "dtype: int64"
      ]
     },
     "metadata": {},
     "execution_count": 52
    }
   ],
   "source": [
    "data.dtypes.value_counts()"
   ]
  },
  {
   "cell_type": "code",
   "execution_count": 54,
   "metadata": {
    "run_control": {
     "marked": true
    }
   },
   "outputs": [
    {
     "output_type": "execute_result",
     "data": {
      "text/plain": [
       "fBodyBodyGyroJerkMag-skewness()         float64\n",
       "fBodyBodyGyroJerkMag-kurtosis()         float64\n",
       "angle(tBodyAccMean,gravity)             float64\n",
       "angle(tBodyAccJerkMean),gravityMean)    float64\n",
       "angle(tBodyGyroMean,gravityMean)        float64\n",
       "angle(tBodyGyroJerkMean,gravityMean)    float64\n",
       "angle(X,gravityMean)                    float64\n",
       "angle(Y,gravityMean)                    float64\n",
       "angle(Z,gravityMean)                    float64\n",
       "Activity                                 object\n",
       "dtype: object"
      ]
     },
     "metadata": {},
     "execution_count": 54
    }
   ],
   "source": [
    "data.dtypes.tail(10)"
   ]
  },
  {
   "cell_type": "markdown",
   "metadata": {
    "run_control": {
     "marked": true
    }
   },
   "source": [
    "The data are all scaled from -1 (minimum) to 1.0 (maximum)."
   ]
  },
  {
   "cell_type": "code",
   "execution_count": 56,
   "metadata": {
    "run_control": {
     "marked": true
    }
   },
   "outputs": [
    {
     "output_type": "execute_result",
     "data": {
      "text/plain": [
       "-1.0    561\n",
       "dtype: int64"
      ]
     },
     "metadata": {},
     "execution_count": 56
    }
   ],
   "source": [
    "data.iloc[:, :-1].min().value_counts()"
   ]
  },
  {
   "cell_type": "code",
   "execution_count": 58,
   "metadata": {
    "run_control": {
     "marked": true
    }
   },
   "outputs": [
    {
     "output_type": "execute_result",
     "data": {
      "text/plain": [
       "1.0    561\n",
       "dtype: int64"
      ]
     },
     "metadata": {},
     "execution_count": 58
    }
   ],
   "source": [
    "data.iloc[:, :-1].max().value_counts()"
   ]
  },
  {
   "cell_type": "markdown",
   "metadata": {},
   "source": [
    "Examine the breakdown of activities--they are relatively balanced."
   ]
  },
  {
   "cell_type": "code",
   "execution_count": 60,
   "metadata": {},
   "outputs": [
    {
     "output_type": "execute_result",
     "data": {
      "text/plain": [
       "LAYING                1944\n",
       "STANDING              1906\n",
       "SITTING               1777\n",
       "WALKING               1722\n",
       "WALKING_UPSTAIRS      1544\n",
       "WALKING_DOWNSTAIRS    1406\n",
       "Name: Activity, dtype: int64"
      ]
     },
     "metadata": {},
     "execution_count": 60
    }
   ],
   "source": [
    "data.Activity.value_counts()"
   ]
  },
  {
   "cell_type": "markdown",
   "metadata": {},
   "source": [
    "Scikit learn classifiers won't accept a sparse matrix for the prediction column. Thus, either `LabelEncoder` needs to be used to convert the activity labels to integers, or if `DictVectorizer` is used, the resulting matrix must be converted to a non-sparse array.  \n",
    "Use `LabelEncoder` to fit_transform the \"Activity\" column, and look at 5 random values."
   ]
  },
  {
   "cell_type": "code",
   "execution_count": 62,
   "metadata": {},
   "outputs": [
    {
     "output_type": "execute_result",
     "data": {
      "text/plain": [
       "7972    2\n",
       "497     5\n",
       "886     1\n",
       "3026    5\n",
       "4532    5\n",
       "Name: Activity, dtype: int64"
      ]
     },
     "metadata": {},
     "execution_count": 62
    }
   ],
   "source": [
    "from sklearn.preprocessing import LabelEncoder\n",
    "\n",
    "le = LabelEncoder()\n",
    "data['Activity'] = le.fit_transform(data.Activity)\n",
    "data['Activity'].sample(5)"
   ]
  },
  {
   "cell_type": "markdown",
   "metadata": {},
   "source": [
    "## Question 2\n",
    "\n",
    "* Calculate the correlations between the dependent variables.\n",
    "* Create a histogram of the correlation values\n",
    "* Identify those that are most correlated (either positively or negatively)."
   ]
  },
  {
   "cell_type": "code",
   "execution_count": 64,
   "metadata": {
    "collapsed": true
   },
   "outputs": [
    {
     "output_type": "execute_result",
     "data": {
      "text/plain": [
       "                                      tBodyAcc-mean()-X  tBodyAcc-mean()-Y  \\\n",
       "tBodyAcc-mean()-X                              1.000000           0.128037   \n",
       "tBodyAcc-mean()-Y                              0.128037           1.000000   \n",
       "tBodyAcc-mean()-Z                             -0.230302          -0.029882   \n",
       "tBodyAcc-std()-X                               0.004590          -0.046352   \n",
       "tBodyAcc-std()-Y                              -0.016785          -0.046996   \n",
       "...                                                 ...                ...   \n",
       "angle(tBodyGyroMean,gravityMean)               0.036047           0.013241   \n",
       "angle(tBodyGyroJerkMean,gravityMean)           0.034296           0.077627   \n",
       "angle(X,gravityMean)                          -0.041021          -0.007513   \n",
       "angle(Y,gravityMean)                           0.034053          -0.005616   \n",
       "angle(Z,gravityMean)                           0.030656          -0.016233   \n",
       "\n",
       "                                      tBodyAcc-mean()-Z  tBodyAcc-std()-X  \\\n",
       "tBodyAcc-mean()-X                             -0.230302          0.004590   \n",
       "tBodyAcc-mean()-Y                             -0.029882         -0.046352   \n",
       "tBodyAcc-mean()-Z                              1.000000         -0.024185   \n",
       "tBodyAcc-std()-X                              -0.024185          1.000000   \n",
       "tBodyAcc-std()-Y                              -0.023745          0.922525   \n",
       "...                                                 ...               ...   \n",
       "angle(tBodyGyroMean,gravityMean)              -0.066233          0.027464   \n",
       "angle(tBodyGyroJerkMean,gravityMean)          -0.030748         -0.027123   \n",
       "angle(X,gravityMean)                           0.003215         -0.374104   \n",
       "angle(Y,gravityMean)                          -0.012986          0.449425   \n",
       "angle(Z,gravityMean)                          -0.028406          0.393063   \n",
       "\n",
       "                                      tBodyAcc-std()-Y  tBodyAcc-std()-Z  \\\n",
       "tBodyAcc-mean()-X                            -0.016785         -0.036071   \n",
       "tBodyAcc-mean()-Y                            -0.046996         -0.054153   \n",
       "tBodyAcc-mean()-Z                            -0.023745         -0.015632   \n",
       "tBodyAcc-std()-X                              0.922525          0.861910   \n",
       "tBodyAcc-std()-Y                              1.000000          0.888259   \n",
       "...                                                ...               ...   \n",
       "angle(tBodyGyroMean,gravityMean)              0.001902         -0.004984   \n",
       "angle(tBodyGyroJerkMean,gravityMean)         -0.015784         -0.012196   \n",
       "angle(X,gravityMean)                         -0.381391         -0.353271   \n",
       "angle(Y,gravityMean)                          0.506106          0.459092   \n",
       "angle(Z,gravityMean)                          0.425511          0.483424   \n",
       "\n",
       "                                      tBodyAcc-mad()-X  tBodyAcc-mad()-Y  \\\n",
       "tBodyAcc-mean()-X                             0.010303         -0.017488   \n",
       "tBodyAcc-mean()-Y                            -0.045247         -0.047673   \n",
       "tBodyAcc-mean()-Z                            -0.022872         -0.022966   \n",
       "tBodyAcc-std()-X                              0.998662          0.916087   \n",
       "tBodyAcc-std()-Y                              0.918561          0.997510   \n",
       "...                                                ...               ...   \n",
       "angle(tBodyGyroMean,gravityMean)              0.027729         -0.002924   \n",
       "angle(tBodyGyroJerkMean,gravityMean)         -0.027097         -0.013411   \n",
       "angle(X,gravityMean)                         -0.371168         -0.378013   \n",
       "angle(Y,gravityMean)                          0.444926          0.507947   \n",
       "angle(Z,gravityMean)                          0.389481          0.424479   \n",
       "\n",
       "                                      tBodyAcc-mad()-Z  tBodyAcc-max()-X  ...  \\\n",
       "tBodyAcc-mean()-X                            -0.038805          0.046943  ...   \n",
       "tBodyAcc-mean()-Y                            -0.055524         -0.039445  ...   \n",
       "tBodyAcc-mean()-Z                            -0.009577         -0.040218  ...   \n",
       "tBodyAcc-std()-X                              0.856497          0.981226  ...   \n",
       "tBodyAcc-std()-Y                              0.887052          0.911137  ...   \n",
       "...                                                ...               ...  ...   \n",
       "angle(tBodyGyroMean,gravityMean)             -0.009873          0.033533  ...   \n",
       "angle(tBodyGyroJerkMean,gravityMean)         -0.012800         -0.030908  ...   \n",
       "angle(X,gravityMean)                         -0.355836         -0.384244  ...   \n",
       "angle(Y,gravityMean)                          0.460345          0.458832  ...   \n",
       "angle(Z,gravityMean)                          0.480032          0.402873  ...   \n",
       "\n",
       "                                      fBodyBodyGyroJerkMag-meanFreq()  \\\n",
       "tBodyAcc-mean()-X                                            0.029901   \n",
       "tBodyAcc-mean()-Y                                           -0.014402   \n",
       "tBodyAcc-mean()-Z                                           -0.015358   \n",
       "tBodyAcc-std()-X                                            -0.068807   \n",
       "tBodyAcc-std()-Y                                            -0.109941   \n",
       "...                                                               ...   \n",
       "angle(tBodyGyroMean,gravityMean)                            -0.029273   \n",
       "angle(tBodyGyroJerkMean,gravityMean)                        -0.002618   \n",
       "angle(X,gravityMean)                                         0.087571   \n",
       "angle(Y,gravityMean)                                        -0.105752   \n",
       "angle(Z,gravityMean)                                        -0.061105   \n",
       "\n",
       "                                      fBodyBodyGyroJerkMag-skewness()  \\\n",
       "tBodyAcc-mean()-X                                           -0.006179   \n",
       "tBodyAcc-mean()-Y                                           -0.000649   \n",
       "tBodyAcc-mean()-Z                                            0.023050   \n",
       "tBodyAcc-std()-X                                             0.165552   \n",
       "tBodyAcc-std()-Y                                             0.220279   \n",
       "...                                                               ...   \n",
       "angle(tBodyGyroMean,gravityMean)                             0.042123   \n",
       "angle(tBodyGyroJerkMean,gravityMean)                        -0.013065   \n",
       "angle(X,gravityMean)                                        -0.085226   \n",
       "angle(Y,gravityMean)                                         0.087671   \n",
       "angle(Z,gravityMean)                                         0.058759   \n",
       "\n",
       "                                      fBodyBodyGyroJerkMag-kurtosis()  \\\n",
       "tBodyAcc-mean()-X                                           -0.002255   \n",
       "tBodyAcc-mean()-Y                                           -0.002842   \n",
       "tBodyAcc-mean()-Z                                            0.023122   \n",
       "tBodyAcc-std()-X                                             0.135171   \n",
       "tBodyAcc-std()-Y                                             0.191164   \n",
       "...                                                               ...   \n",
       "angle(tBodyGyroMean,gravityMean)                             0.035684   \n",
       "angle(tBodyGyroJerkMean,gravityMean)                        -0.011829   \n",
       "angle(X,gravityMean)                                        -0.081971   \n",
       "angle(Y,gravityMean)                                         0.078010   \n",
       "angle(Z,gravityMean)                                         0.054008   \n",
       "\n",
       "                                      angle(tBodyAccMean,gravity)  \\\n",
       "tBodyAcc-mean()-X                                       -0.552989   \n",
       "tBodyAcc-mean()-Y                                        0.077750   \n",
       "tBodyAcc-mean()-Z                                        0.055020   \n",
       "tBodyAcc-std()-X                                        -0.034334   \n",
       "tBodyAcc-std()-Y                                        -0.020806   \n",
       "...                                                           ...   \n",
       "angle(tBodyGyroMean,gravityMean)                        -0.013009   \n",
       "angle(tBodyGyroJerkMean,gravityMean)                    -0.027478   \n",
       "angle(X,gravityMean)                                     0.008050   \n",
       "angle(Y,gravityMean)                                     0.003082   \n",
       "angle(Z,gravityMean)                                    -0.003242   \n",
       "\n",
       "                                      angle(tBodyAccJerkMean),gravityMean)  \\\n",
       "tBodyAcc-mean()-X                                                 0.015754   \n",
       "tBodyAcc-mean()-Y                                                -0.027567   \n",
       "tBodyAcc-mean()-Z                                                -0.042083   \n",
       "tBodyAcc-std()-X                                                 -0.017096   \n",
       "tBodyAcc-std()-Y                                                 -0.006605   \n",
       "...                                                                    ...   \n",
       "angle(tBodyGyroMean,gravityMean)                                  0.010679   \n",
       "angle(tBodyGyroJerkMean,gravityMean)                              0.023605   \n",
       "angle(X,gravityMean)                                              0.017534   \n",
       "angle(Y,gravityMean)                                             -0.007256   \n",
       "angle(Z,gravityMean)                                             -0.013130   \n",
       "\n",
       "                                      angle(tBodyGyroMean,gravityMean)  \\\n",
       "tBodyAcc-mean()-X                                             0.036047   \n",
       "tBodyAcc-mean()-Y                                             0.013241   \n",
       "tBodyAcc-mean()-Z                                            -0.066233   \n",
       "tBodyAcc-std()-X                                              0.027464   \n",
       "tBodyAcc-std()-Y                                              0.001902   \n",
       "...                                                                ...   \n",
       "angle(tBodyGyroMean,gravityMean)                              1.000000   \n",
       "angle(tBodyGyroJerkMean,gravityMean)                         -0.112454   \n",
       "angle(X,gravityMean)                                         -0.007095   \n",
       "angle(Y,gravityMean)                                         -0.006444   \n",
       "angle(Z,gravityMean)                                         -0.015380   \n",
       "\n",
       "                                      angle(tBodyGyroJerkMean,gravityMean)  \\\n",
       "tBodyAcc-mean()-X                                                 0.034296   \n",
       "tBodyAcc-mean()-Y                                                 0.077627   \n",
       "tBodyAcc-mean()-Z                                                -0.030748   \n",
       "tBodyAcc-std()-X                                                 -0.027123   \n",
       "tBodyAcc-std()-Y                                                 -0.015784   \n",
       "...                                                                    ...   \n",
       "angle(tBodyGyroMean,gravityMean)                                 -0.112454   \n",
       "angle(tBodyGyroJerkMean,gravityMean)                              1.000000   \n",
       "angle(X,gravityMean)                                              0.024822   \n",
       "angle(Y,gravityMean)                                             -0.004582   \n",
       "angle(Z,gravityMean)                                             -0.012549   \n",
       "\n",
       "                                      angle(X,gravityMean)  \\\n",
       "tBodyAcc-mean()-X                                -0.041021   \n",
       "tBodyAcc-mean()-Y                                -0.007513   \n",
       "tBodyAcc-mean()-Z                                 0.003215   \n",
       "tBodyAcc-std()-X                                 -0.374104   \n",
       "tBodyAcc-std()-Y                                 -0.381391   \n",
       "...                                                    ...   \n",
       "angle(tBodyGyroMean,gravityMean)                 -0.007095   \n",
       "angle(tBodyGyroJerkMean,gravityMean)              0.024822   \n",
       "angle(X,gravityMean)                              1.000000   \n",
       "angle(Y,gravityMean)                             -0.748249   \n",
       "angle(Z,gravityMean)                             -0.635231   \n",
       "\n",
       "                                      angle(Y,gravityMean)  \\\n",
       "tBodyAcc-mean()-X                                 0.034053   \n",
       "tBodyAcc-mean()-Y                                -0.005616   \n",
       "tBodyAcc-mean()-Z                                -0.012986   \n",
       "tBodyAcc-std()-X                                  0.449425   \n",
       "tBodyAcc-std()-Y                                  0.506106   \n",
       "...                                                    ...   \n",
       "angle(tBodyGyroMean,gravityMean)                 -0.006444   \n",
       "angle(tBodyGyroJerkMean,gravityMean)             -0.004582   \n",
       "angle(X,gravityMean)                             -0.748249   \n",
       "angle(Y,gravityMean)                              1.000000   \n",
       "angle(Z,gravityMean)                              0.545614   \n",
       "\n",
       "                                      angle(Z,gravityMean)  \n",
       "tBodyAcc-mean()-X                                 0.030656  \n",
       "tBodyAcc-mean()-Y                                -0.016233  \n",
       "tBodyAcc-mean()-Z                                -0.028406  \n",
       "tBodyAcc-std()-X                                  0.393063  \n",
       "tBodyAcc-std()-Y                                  0.425511  \n",
       "...                                                    ...  \n",
       "angle(tBodyGyroMean,gravityMean)                 -0.015380  \n",
       "angle(tBodyGyroJerkMean,gravityMean)             -0.012549  \n",
       "angle(X,gravityMean)                             -0.635231  \n",
       "angle(Y,gravityMean)                              0.545614  \n",
       "angle(Z,gravityMean)                              1.000000  \n",
       "\n",
       "[561 rows x 561 columns]"
      ],
      "text/html": "<div>\n<style scoped>\n    .dataframe tbody tr th:only-of-type {\n        vertical-align: middle;\n    }\n\n    .dataframe tbody tr th {\n        vertical-align: top;\n    }\n\n    .dataframe thead th {\n        text-align: right;\n    }\n</style>\n<table border=\"1\" class=\"dataframe\">\n  <thead>\n    <tr style=\"text-align: right;\">\n      <th></th>\n      <th>tBodyAcc-mean()-X</th>\n      <th>tBodyAcc-mean()-Y</th>\n      <th>tBodyAcc-mean()-Z</th>\n      <th>tBodyAcc-std()-X</th>\n      <th>tBodyAcc-std()-Y</th>\n      <th>tBodyAcc-std()-Z</th>\n      <th>tBodyAcc-mad()-X</th>\n      <th>tBodyAcc-mad()-Y</th>\n      <th>tBodyAcc-mad()-Z</th>\n      <th>tBodyAcc-max()-X</th>\n      <th>...</th>\n      <th>fBodyBodyGyroJerkMag-meanFreq()</th>\n      <th>fBodyBodyGyroJerkMag-skewness()</th>\n      <th>fBodyBodyGyroJerkMag-kurtosis()</th>\n      <th>angle(tBodyAccMean,gravity)</th>\n      <th>angle(tBodyAccJerkMean),gravityMean)</th>\n      <th>angle(tBodyGyroMean,gravityMean)</th>\n      <th>angle(tBodyGyroJerkMean,gravityMean)</th>\n      <th>angle(X,gravityMean)</th>\n      <th>angle(Y,gravityMean)</th>\n      <th>angle(Z,gravityMean)</th>\n    </tr>\n  </thead>\n  <tbody>\n    <tr>\n      <th>tBodyAcc-mean()-X</th>\n      <td>1.000000</td>\n      <td>0.128037</td>\n      <td>-0.230302</td>\n      <td>0.004590</td>\n      <td>-0.016785</td>\n      <td>-0.036071</td>\n      <td>0.010303</td>\n      <td>-0.017488</td>\n      <td>-0.038805</td>\n      <td>0.046943</td>\n      <td>...</td>\n      <td>0.029901</td>\n      <td>-0.006179</td>\n      <td>-0.002255</td>\n      <td>-0.552989</td>\n      <td>0.015754</td>\n      <td>0.036047</td>\n      <td>0.034296</td>\n      <td>-0.041021</td>\n      <td>0.034053</td>\n      <td>0.030656</td>\n    </tr>\n    <tr>\n      <th>tBodyAcc-mean()-Y</th>\n      <td>0.128037</td>\n      <td>1.000000</td>\n      <td>-0.029882</td>\n      <td>-0.046352</td>\n      <td>-0.046996</td>\n      <td>-0.054153</td>\n      <td>-0.045247</td>\n      <td>-0.047673</td>\n      <td>-0.055524</td>\n      <td>-0.039445</td>\n      <td>...</td>\n      <td>-0.014402</td>\n      <td>-0.000649</td>\n      <td>-0.002842</td>\n      <td>0.077750</td>\n      <td>-0.027567</td>\n      <td>0.013241</td>\n      <td>0.077627</td>\n      <td>-0.007513</td>\n      <td>-0.005616</td>\n      <td>-0.016233</td>\n    </tr>\n    <tr>\n      <th>tBodyAcc-mean()-Z</th>\n      <td>-0.230302</td>\n      <td>-0.029882</td>\n      <td>1.000000</td>\n      <td>-0.024185</td>\n      <td>-0.023745</td>\n      <td>-0.015632</td>\n      <td>-0.022872</td>\n      <td>-0.022966</td>\n      <td>-0.009577</td>\n      <td>-0.040218</td>\n      <td>...</td>\n      <td>-0.015358</td>\n      <td>0.023050</td>\n      <td>0.023122</td>\n      <td>0.055020</td>\n      <td>-0.042083</td>\n      <td>-0.066233</td>\n      <td>-0.030748</td>\n      <td>0.003215</td>\n      <td>-0.012986</td>\n      <td>-0.028406</td>\n    </tr>\n    <tr>\n      <th>tBodyAcc-std()-X</th>\n      <td>0.004590</td>\n      <td>-0.046352</td>\n      <td>-0.024185</td>\n      <td>1.000000</td>\n      <td>0.922525</td>\n      <td>0.861910</td>\n      <td>0.998662</td>\n      <td>0.916087</td>\n      <td>0.856497</td>\n      <td>0.981226</td>\n      <td>...</td>\n      <td>-0.068807</td>\n      <td>0.165552</td>\n      <td>0.135171</td>\n      <td>-0.034334</td>\n      <td>-0.017096</td>\n      <td>0.027464</td>\n      <td>-0.027123</td>\n      <td>-0.374104</td>\n      <td>0.449425</td>\n      <td>0.393063</td>\n    </tr>\n    <tr>\n      <th>tBodyAcc-std()-Y</th>\n      <td>-0.016785</td>\n      <td>-0.046996</td>\n      <td>-0.023745</td>\n      <td>0.922525</td>\n      <td>1.000000</td>\n      <td>0.888259</td>\n      <td>0.918561</td>\n      <td>0.997510</td>\n      <td>0.887052</td>\n      <td>0.911137</td>\n      <td>...</td>\n      <td>-0.109941</td>\n      <td>0.220279</td>\n      <td>0.191164</td>\n      <td>-0.020806</td>\n      <td>-0.006605</td>\n      <td>0.001902</td>\n      <td>-0.015784</td>\n      <td>-0.381391</td>\n      <td>0.506106</td>\n      <td>0.425511</td>\n    </tr>\n    <tr>\n      <th>...</th>\n      <td>...</td>\n      <td>...</td>\n      <td>...</td>\n      <td>...</td>\n      <td>...</td>\n      <td>...</td>\n      <td>...</td>\n      <td>...</td>\n      <td>...</td>\n      <td>...</td>\n      <td>...</td>\n      <td>...</td>\n      <td>...</td>\n      <td>...</td>\n      <td>...</td>\n      <td>...</td>\n      <td>...</td>\n      <td>...</td>\n      <td>...</td>\n      <td>...</td>\n      <td>...</td>\n    </tr>\n    <tr>\n      <th>angle(tBodyGyroMean,gravityMean)</th>\n      <td>0.036047</td>\n      <td>0.013241</td>\n      <td>-0.066233</td>\n      <td>0.027464</td>\n      <td>0.001902</td>\n      <td>-0.004984</td>\n      <td>0.027729</td>\n      <td>-0.002924</td>\n      <td>-0.009873</td>\n      <td>0.033533</td>\n      <td>...</td>\n      <td>-0.029273</td>\n      <td>0.042123</td>\n      <td>0.035684</td>\n      <td>-0.013009</td>\n      <td>0.010679</td>\n      <td>1.000000</td>\n      <td>-0.112454</td>\n      <td>-0.007095</td>\n      <td>-0.006444</td>\n      <td>-0.015380</td>\n    </tr>\n    <tr>\n      <th>angle(tBodyGyroJerkMean,gravityMean)</th>\n      <td>0.034296</td>\n      <td>0.077627</td>\n      <td>-0.030748</td>\n      <td>-0.027123</td>\n      <td>-0.015784</td>\n      <td>-0.012196</td>\n      <td>-0.027097</td>\n      <td>-0.013411</td>\n      <td>-0.012800</td>\n      <td>-0.030908</td>\n      <td>...</td>\n      <td>-0.002618</td>\n      <td>-0.013065</td>\n      <td>-0.011829</td>\n      <td>-0.027478</td>\n      <td>0.023605</td>\n      <td>-0.112454</td>\n      <td>1.000000</td>\n      <td>0.024822</td>\n      <td>-0.004582</td>\n      <td>-0.012549</td>\n    </tr>\n    <tr>\n      <th>angle(X,gravityMean)</th>\n      <td>-0.041021</td>\n      <td>-0.007513</td>\n      <td>0.003215</td>\n      <td>-0.374104</td>\n      <td>-0.381391</td>\n      <td>-0.353271</td>\n      <td>-0.371168</td>\n      <td>-0.378013</td>\n      <td>-0.355836</td>\n      <td>-0.384244</td>\n      <td>...</td>\n      <td>0.087571</td>\n      <td>-0.085226</td>\n      <td>-0.081971</td>\n      <td>0.008050</td>\n      <td>0.017534</td>\n      <td>-0.007095</td>\n      <td>0.024822</td>\n      <td>1.000000</td>\n      <td>-0.748249</td>\n      <td>-0.635231</td>\n    </tr>\n    <tr>\n      <th>angle(Y,gravityMean)</th>\n      <td>0.034053</td>\n      <td>-0.005616</td>\n      <td>-0.012986</td>\n      <td>0.449425</td>\n      <td>0.506106</td>\n      <td>0.459092</td>\n      <td>0.444926</td>\n      <td>0.507947</td>\n      <td>0.460345</td>\n      <td>0.458832</td>\n      <td>...</td>\n      <td>-0.105752</td>\n      <td>0.087671</td>\n      <td>0.078010</td>\n      <td>0.003082</td>\n      <td>-0.007256</td>\n      <td>-0.006444</td>\n      <td>-0.004582</td>\n      <td>-0.748249</td>\n      <td>1.000000</td>\n      <td>0.545614</td>\n    </tr>\n    <tr>\n      <th>angle(Z,gravityMean)</th>\n      <td>0.030656</td>\n      <td>-0.016233</td>\n      <td>-0.028406</td>\n      <td>0.393063</td>\n      <td>0.425511</td>\n      <td>0.483424</td>\n      <td>0.389481</td>\n      <td>0.424479</td>\n      <td>0.480032</td>\n      <td>0.402873</td>\n      <td>...</td>\n      <td>-0.061105</td>\n      <td>0.058759</td>\n      <td>0.054008</td>\n      <td>-0.003242</td>\n      <td>-0.013130</td>\n      <td>-0.015380</td>\n      <td>-0.012549</td>\n      <td>-0.635231</td>\n      <td>0.545614</td>\n      <td>1.000000</td>\n    </tr>\n  </tbody>\n</table>\n<p>561 rows × 561 columns</p>\n</div>"
     },
     "metadata": {},
     "execution_count": 64
    }
   ],
   "source": [
    "# Calculate the correlation values\n",
    "feature_cols = data.columns[:-1]\n",
    "corr_values = data[feature_cols].corr()\n",
    "corr_values"
   ]
  },
  {
   "cell_type": "code",
   "execution_count": 66,
   "metadata": {},
   "outputs": [
    {
     "output_type": "execute_result",
     "data": {
      "text/plain": [
       "(array([  0,   1,   1, ..., 560, 560, 560]),\n",
       " array([  0,   0,   1, ..., 558, 559, 560]))"
      ]
     },
     "metadata": {},
     "execution_count": 66
    }
   ],
   "source": [
    "# Simplify by emptying all the data below the diagonal\n",
    "tril_index = np.tril_indices_from(corr_values)\n",
    "tril_index"
   ]
  },
  {
   "cell_type": "code",
   "execution_count": 68,
   "metadata": {},
   "outputs": [
    {
     "output_type": "execute_result",
     "data": {
      "text/plain": [
       "                                      tBodyAcc-mean()-X  tBodyAcc-mean()-Y  \\\n",
       "tBodyAcc-mean()-X                                   NaN           0.128037   \n",
       "tBodyAcc-mean()-Y                                   NaN                NaN   \n",
       "tBodyAcc-mean()-Z                                   NaN                NaN   \n",
       "tBodyAcc-std()-X                                    NaN                NaN   \n",
       "tBodyAcc-std()-Y                                    NaN                NaN   \n",
       "...                                                 ...                ...   \n",
       "angle(tBodyGyroMean,gravityMean)                    NaN                NaN   \n",
       "angle(tBodyGyroJerkMean,gravityMean)                NaN                NaN   \n",
       "angle(X,gravityMean)                                NaN                NaN   \n",
       "angle(Y,gravityMean)                                NaN                NaN   \n",
       "angle(Z,gravityMean)                                NaN                NaN   \n",
       "\n",
       "                                      tBodyAcc-mean()-Z  tBodyAcc-std()-X  \\\n",
       "tBodyAcc-mean()-X                             -0.230302          0.004590   \n",
       "tBodyAcc-mean()-Y                             -0.029882         -0.046352   \n",
       "tBodyAcc-mean()-Z                                   NaN         -0.024185   \n",
       "tBodyAcc-std()-X                                    NaN               NaN   \n",
       "tBodyAcc-std()-Y                                    NaN               NaN   \n",
       "...                                                 ...               ...   \n",
       "angle(tBodyGyroMean,gravityMean)                    NaN               NaN   \n",
       "angle(tBodyGyroJerkMean,gravityMean)                NaN               NaN   \n",
       "angle(X,gravityMean)                                NaN               NaN   \n",
       "angle(Y,gravityMean)                                NaN               NaN   \n",
       "angle(Z,gravityMean)                                NaN               NaN   \n",
       "\n",
       "                                      tBodyAcc-std()-Y  tBodyAcc-std()-Z  \\\n",
       "tBodyAcc-mean()-X                            -0.016785         -0.036071   \n",
       "tBodyAcc-mean()-Y                            -0.046996         -0.054153   \n",
       "tBodyAcc-mean()-Z                            -0.023745         -0.015632   \n",
       "tBodyAcc-std()-X                              0.922525          0.861910   \n",
       "tBodyAcc-std()-Y                                   NaN          0.888259   \n",
       "...                                                ...               ...   \n",
       "angle(tBodyGyroMean,gravityMean)                   NaN               NaN   \n",
       "angle(tBodyGyroJerkMean,gravityMean)               NaN               NaN   \n",
       "angle(X,gravityMean)                               NaN               NaN   \n",
       "angle(Y,gravityMean)                               NaN               NaN   \n",
       "angle(Z,gravityMean)                               NaN               NaN   \n",
       "\n",
       "                                      tBodyAcc-mad()-X  tBodyAcc-mad()-Y  \\\n",
       "tBodyAcc-mean()-X                             0.010303         -0.017488   \n",
       "tBodyAcc-mean()-Y                            -0.045247         -0.047673   \n",
       "tBodyAcc-mean()-Z                            -0.022872         -0.022966   \n",
       "tBodyAcc-std()-X                              0.998662          0.916087   \n",
       "tBodyAcc-std()-Y                              0.918561          0.997510   \n",
       "...                                                ...               ...   \n",
       "angle(tBodyGyroMean,gravityMean)                   NaN               NaN   \n",
       "angle(tBodyGyroJerkMean,gravityMean)               NaN               NaN   \n",
       "angle(X,gravityMean)                               NaN               NaN   \n",
       "angle(Y,gravityMean)                               NaN               NaN   \n",
       "angle(Z,gravityMean)                               NaN               NaN   \n",
       "\n",
       "                                      tBodyAcc-mad()-Z  tBodyAcc-max()-X  ...  \\\n",
       "tBodyAcc-mean()-X                            -0.038805          0.046943  ...   \n",
       "tBodyAcc-mean()-Y                            -0.055524         -0.039445  ...   \n",
       "tBodyAcc-mean()-Z                            -0.009577         -0.040218  ...   \n",
       "tBodyAcc-std()-X                              0.856497          0.981226  ...   \n",
       "tBodyAcc-std()-Y                              0.887052          0.911137  ...   \n",
       "...                                                ...               ...  ...   \n",
       "angle(tBodyGyroMean,gravityMean)                   NaN               NaN  ...   \n",
       "angle(tBodyGyroJerkMean,gravityMean)               NaN               NaN  ...   \n",
       "angle(X,gravityMean)                               NaN               NaN  ...   \n",
       "angle(Y,gravityMean)                               NaN               NaN  ...   \n",
       "angle(Z,gravityMean)                               NaN               NaN  ...   \n",
       "\n",
       "                                      fBodyBodyGyroJerkMag-meanFreq()  \\\n",
       "tBodyAcc-mean()-X                                            0.029901   \n",
       "tBodyAcc-mean()-Y                                           -0.014402   \n",
       "tBodyAcc-mean()-Z                                           -0.015358   \n",
       "tBodyAcc-std()-X                                            -0.068807   \n",
       "tBodyAcc-std()-Y                                            -0.109941   \n",
       "...                                                               ...   \n",
       "angle(tBodyGyroMean,gravityMean)                                  NaN   \n",
       "angle(tBodyGyroJerkMean,gravityMean)                              NaN   \n",
       "angle(X,gravityMean)                                              NaN   \n",
       "angle(Y,gravityMean)                                              NaN   \n",
       "angle(Z,gravityMean)                                              NaN   \n",
       "\n",
       "                                      fBodyBodyGyroJerkMag-skewness()  \\\n",
       "tBodyAcc-mean()-X                                           -0.006179   \n",
       "tBodyAcc-mean()-Y                                           -0.000649   \n",
       "tBodyAcc-mean()-Z                                            0.023050   \n",
       "tBodyAcc-std()-X                                             0.165552   \n",
       "tBodyAcc-std()-Y                                             0.220279   \n",
       "...                                                               ...   \n",
       "angle(tBodyGyroMean,gravityMean)                                  NaN   \n",
       "angle(tBodyGyroJerkMean,gravityMean)                              NaN   \n",
       "angle(X,gravityMean)                                              NaN   \n",
       "angle(Y,gravityMean)                                              NaN   \n",
       "angle(Z,gravityMean)                                              NaN   \n",
       "\n",
       "                                      fBodyBodyGyroJerkMag-kurtosis()  \\\n",
       "tBodyAcc-mean()-X                                           -0.002255   \n",
       "tBodyAcc-mean()-Y                                           -0.002842   \n",
       "tBodyAcc-mean()-Z                                            0.023122   \n",
       "tBodyAcc-std()-X                                             0.135171   \n",
       "tBodyAcc-std()-Y                                             0.191164   \n",
       "...                                                               ...   \n",
       "angle(tBodyGyroMean,gravityMean)                                  NaN   \n",
       "angle(tBodyGyroJerkMean,gravityMean)                              NaN   \n",
       "angle(X,gravityMean)                                              NaN   \n",
       "angle(Y,gravityMean)                                              NaN   \n",
       "angle(Z,gravityMean)                                              NaN   \n",
       "\n",
       "                                      angle(tBodyAccMean,gravity)  \\\n",
       "tBodyAcc-mean()-X                                       -0.552989   \n",
       "tBodyAcc-mean()-Y                                        0.077750   \n",
       "tBodyAcc-mean()-Z                                        0.055020   \n",
       "tBodyAcc-std()-X                                        -0.034334   \n",
       "tBodyAcc-std()-Y                                        -0.020806   \n",
       "...                                                           ...   \n",
       "angle(tBodyGyroMean,gravityMean)                              NaN   \n",
       "angle(tBodyGyroJerkMean,gravityMean)                          NaN   \n",
       "angle(X,gravityMean)                                          NaN   \n",
       "angle(Y,gravityMean)                                          NaN   \n",
       "angle(Z,gravityMean)                                          NaN   \n",
       "\n",
       "                                      angle(tBodyAccJerkMean),gravityMean)  \\\n",
       "tBodyAcc-mean()-X                                                 0.015754   \n",
       "tBodyAcc-mean()-Y                                                -0.027567   \n",
       "tBodyAcc-mean()-Z                                                -0.042083   \n",
       "tBodyAcc-std()-X                                                 -0.017096   \n",
       "tBodyAcc-std()-Y                                                 -0.006605   \n",
       "...                                                                    ...   \n",
       "angle(tBodyGyroMean,gravityMean)                                       NaN   \n",
       "angle(tBodyGyroJerkMean,gravityMean)                                   NaN   \n",
       "angle(X,gravityMean)                                                   NaN   \n",
       "angle(Y,gravityMean)                                                   NaN   \n",
       "angle(Z,gravityMean)                                                   NaN   \n",
       "\n",
       "                                      angle(tBodyGyroMean,gravityMean)  \\\n",
       "tBodyAcc-mean()-X                                             0.036047   \n",
       "tBodyAcc-mean()-Y                                             0.013241   \n",
       "tBodyAcc-mean()-Z                                            -0.066233   \n",
       "tBodyAcc-std()-X                                              0.027464   \n",
       "tBodyAcc-std()-Y                                              0.001902   \n",
       "...                                                                ...   \n",
       "angle(tBodyGyroMean,gravityMean)                                   NaN   \n",
       "angle(tBodyGyroJerkMean,gravityMean)                               NaN   \n",
       "angle(X,gravityMean)                                               NaN   \n",
       "angle(Y,gravityMean)                                               NaN   \n",
       "angle(Z,gravityMean)                                               NaN   \n",
       "\n",
       "                                      angle(tBodyGyroJerkMean,gravityMean)  \\\n",
       "tBodyAcc-mean()-X                                                 0.034296   \n",
       "tBodyAcc-mean()-Y                                                 0.077627   \n",
       "tBodyAcc-mean()-Z                                                -0.030748   \n",
       "tBodyAcc-std()-X                                                 -0.027123   \n",
       "tBodyAcc-std()-Y                                                 -0.015784   \n",
       "...                                                                    ...   \n",
       "angle(tBodyGyroMean,gravityMean)                                 -0.112454   \n",
       "angle(tBodyGyroJerkMean,gravityMean)                                   NaN   \n",
       "angle(X,gravityMean)                                                   NaN   \n",
       "angle(Y,gravityMean)                                                   NaN   \n",
       "angle(Z,gravityMean)                                                   NaN   \n",
       "\n",
       "                                      angle(X,gravityMean)  \\\n",
       "tBodyAcc-mean()-X                                -0.041021   \n",
       "tBodyAcc-mean()-Y                                -0.007513   \n",
       "tBodyAcc-mean()-Z                                 0.003215   \n",
       "tBodyAcc-std()-X                                 -0.374104   \n",
       "tBodyAcc-std()-Y                                 -0.381391   \n",
       "...                                                    ...   \n",
       "angle(tBodyGyroMean,gravityMean)                 -0.007095   \n",
       "angle(tBodyGyroJerkMean,gravityMean)              0.024822   \n",
       "angle(X,gravityMean)                                   NaN   \n",
       "angle(Y,gravityMean)                                   NaN   \n",
       "angle(Z,gravityMean)                                   NaN   \n",
       "\n",
       "                                      angle(Y,gravityMean)  \\\n",
       "tBodyAcc-mean()-X                                 0.034053   \n",
       "tBodyAcc-mean()-Y                                -0.005616   \n",
       "tBodyAcc-mean()-Z                                -0.012986   \n",
       "tBodyAcc-std()-X                                  0.449425   \n",
       "tBodyAcc-std()-Y                                  0.506106   \n",
       "...                                                    ...   \n",
       "angle(tBodyGyroMean,gravityMean)                 -0.006444   \n",
       "angle(tBodyGyroJerkMean,gravityMean)             -0.004582   \n",
       "angle(X,gravityMean)                             -0.748249   \n",
       "angle(Y,gravityMean)                                   NaN   \n",
       "angle(Z,gravityMean)                                   NaN   \n",
       "\n",
       "                                      angle(Z,gravityMean)  \n",
       "tBodyAcc-mean()-X                                 0.030656  \n",
       "tBodyAcc-mean()-Y                                -0.016233  \n",
       "tBodyAcc-mean()-Z                                -0.028406  \n",
       "tBodyAcc-std()-X                                  0.393063  \n",
       "tBodyAcc-std()-Y                                  0.425511  \n",
       "...                                                    ...  \n",
       "angle(tBodyGyroMean,gravityMean)                 -0.015380  \n",
       "angle(tBodyGyroJerkMean,gravityMean)             -0.012549  \n",
       "angle(X,gravityMean)                             -0.635231  \n",
       "angle(Y,gravityMean)                              0.545614  \n",
       "angle(Z,gravityMean)                                   NaN  \n",
       "\n",
       "[561 rows x 561 columns]"
      ],
      "text/html": "<div>\n<style scoped>\n    .dataframe tbody tr th:only-of-type {\n        vertical-align: middle;\n    }\n\n    .dataframe tbody tr th {\n        vertical-align: top;\n    }\n\n    .dataframe thead th {\n        text-align: right;\n    }\n</style>\n<table border=\"1\" class=\"dataframe\">\n  <thead>\n    <tr style=\"text-align: right;\">\n      <th></th>\n      <th>tBodyAcc-mean()-X</th>\n      <th>tBodyAcc-mean()-Y</th>\n      <th>tBodyAcc-mean()-Z</th>\n      <th>tBodyAcc-std()-X</th>\n      <th>tBodyAcc-std()-Y</th>\n      <th>tBodyAcc-std()-Z</th>\n      <th>tBodyAcc-mad()-X</th>\n      <th>tBodyAcc-mad()-Y</th>\n      <th>tBodyAcc-mad()-Z</th>\n      <th>tBodyAcc-max()-X</th>\n      <th>...</th>\n      <th>fBodyBodyGyroJerkMag-meanFreq()</th>\n      <th>fBodyBodyGyroJerkMag-skewness()</th>\n      <th>fBodyBodyGyroJerkMag-kurtosis()</th>\n      <th>angle(tBodyAccMean,gravity)</th>\n      <th>angle(tBodyAccJerkMean),gravityMean)</th>\n      <th>angle(tBodyGyroMean,gravityMean)</th>\n      <th>angle(tBodyGyroJerkMean,gravityMean)</th>\n      <th>angle(X,gravityMean)</th>\n      <th>angle(Y,gravityMean)</th>\n      <th>angle(Z,gravityMean)</th>\n    </tr>\n  </thead>\n  <tbody>\n    <tr>\n      <th>tBodyAcc-mean()-X</th>\n      <td>NaN</td>\n      <td>0.128037</td>\n      <td>-0.230302</td>\n      <td>0.004590</td>\n      <td>-0.016785</td>\n      <td>-0.036071</td>\n      <td>0.010303</td>\n      <td>-0.017488</td>\n      <td>-0.038805</td>\n      <td>0.046943</td>\n      <td>...</td>\n      <td>0.029901</td>\n      <td>-0.006179</td>\n      <td>-0.002255</td>\n      <td>-0.552989</td>\n      <td>0.015754</td>\n      <td>0.036047</td>\n      <td>0.034296</td>\n      <td>-0.041021</td>\n      <td>0.034053</td>\n      <td>0.030656</td>\n    </tr>\n    <tr>\n      <th>tBodyAcc-mean()-Y</th>\n      <td>NaN</td>\n      <td>NaN</td>\n      <td>-0.029882</td>\n      <td>-0.046352</td>\n      <td>-0.046996</td>\n      <td>-0.054153</td>\n      <td>-0.045247</td>\n      <td>-0.047673</td>\n      <td>-0.055524</td>\n      <td>-0.039445</td>\n      <td>...</td>\n      <td>-0.014402</td>\n      <td>-0.000649</td>\n      <td>-0.002842</td>\n      <td>0.077750</td>\n      <td>-0.027567</td>\n      <td>0.013241</td>\n      <td>0.077627</td>\n      <td>-0.007513</td>\n      <td>-0.005616</td>\n      <td>-0.016233</td>\n    </tr>\n    <tr>\n      <th>tBodyAcc-mean()-Z</th>\n      <td>NaN</td>\n      <td>NaN</td>\n      <td>NaN</td>\n      <td>-0.024185</td>\n      <td>-0.023745</td>\n      <td>-0.015632</td>\n      <td>-0.022872</td>\n      <td>-0.022966</td>\n      <td>-0.009577</td>\n      <td>-0.040218</td>\n      <td>...</td>\n      <td>-0.015358</td>\n      <td>0.023050</td>\n      <td>0.023122</td>\n      <td>0.055020</td>\n      <td>-0.042083</td>\n      <td>-0.066233</td>\n      <td>-0.030748</td>\n      <td>0.003215</td>\n      <td>-0.012986</td>\n      <td>-0.028406</td>\n    </tr>\n    <tr>\n      <th>tBodyAcc-std()-X</th>\n      <td>NaN</td>\n      <td>NaN</td>\n      <td>NaN</td>\n      <td>NaN</td>\n      <td>0.922525</td>\n      <td>0.861910</td>\n      <td>0.998662</td>\n      <td>0.916087</td>\n      <td>0.856497</td>\n      <td>0.981226</td>\n      <td>...</td>\n      <td>-0.068807</td>\n      <td>0.165552</td>\n      <td>0.135171</td>\n      <td>-0.034334</td>\n      <td>-0.017096</td>\n      <td>0.027464</td>\n      <td>-0.027123</td>\n      <td>-0.374104</td>\n      <td>0.449425</td>\n      <td>0.393063</td>\n    </tr>\n    <tr>\n      <th>tBodyAcc-std()-Y</th>\n      <td>NaN</td>\n      <td>NaN</td>\n      <td>NaN</td>\n      <td>NaN</td>\n      <td>NaN</td>\n      <td>0.888259</td>\n      <td>0.918561</td>\n      <td>0.997510</td>\n      <td>0.887052</td>\n      <td>0.911137</td>\n      <td>...</td>\n      <td>-0.109941</td>\n      <td>0.220279</td>\n      <td>0.191164</td>\n      <td>-0.020806</td>\n      <td>-0.006605</td>\n      <td>0.001902</td>\n      <td>-0.015784</td>\n      <td>-0.381391</td>\n      <td>0.506106</td>\n      <td>0.425511</td>\n    </tr>\n    <tr>\n      <th>...</th>\n      <td>...</td>\n      <td>...</td>\n      <td>...</td>\n      <td>...</td>\n      <td>...</td>\n      <td>...</td>\n      <td>...</td>\n      <td>...</td>\n      <td>...</td>\n      <td>...</td>\n      <td>...</td>\n      <td>...</td>\n      <td>...</td>\n      <td>...</td>\n      <td>...</td>\n      <td>...</td>\n      <td>...</td>\n      <td>...</td>\n      <td>...</td>\n      <td>...</td>\n      <td>...</td>\n    </tr>\n    <tr>\n      <th>angle(tBodyGyroMean,gravityMean)</th>\n      <td>NaN</td>\n      <td>NaN</td>\n      <td>NaN</td>\n      <td>NaN</td>\n      <td>NaN</td>\n      <td>NaN</td>\n      <td>NaN</td>\n      <td>NaN</td>\n      <td>NaN</td>\n      <td>NaN</td>\n      <td>...</td>\n      <td>NaN</td>\n      <td>NaN</td>\n      <td>NaN</td>\n      <td>NaN</td>\n      <td>NaN</td>\n      <td>NaN</td>\n      <td>-0.112454</td>\n      <td>-0.007095</td>\n      <td>-0.006444</td>\n      <td>-0.015380</td>\n    </tr>\n    <tr>\n      <th>angle(tBodyGyroJerkMean,gravityMean)</th>\n      <td>NaN</td>\n      <td>NaN</td>\n      <td>NaN</td>\n      <td>NaN</td>\n      <td>NaN</td>\n      <td>NaN</td>\n      <td>NaN</td>\n      <td>NaN</td>\n      <td>NaN</td>\n      <td>NaN</td>\n      <td>...</td>\n      <td>NaN</td>\n      <td>NaN</td>\n      <td>NaN</td>\n      <td>NaN</td>\n      <td>NaN</td>\n      <td>NaN</td>\n      <td>NaN</td>\n      <td>0.024822</td>\n      <td>-0.004582</td>\n      <td>-0.012549</td>\n    </tr>\n    <tr>\n      <th>angle(X,gravityMean)</th>\n      <td>NaN</td>\n      <td>NaN</td>\n      <td>NaN</td>\n      <td>NaN</td>\n      <td>NaN</td>\n      <td>NaN</td>\n      <td>NaN</td>\n      <td>NaN</td>\n      <td>NaN</td>\n      <td>NaN</td>\n      <td>...</td>\n      <td>NaN</td>\n      <td>NaN</td>\n      <td>NaN</td>\n      <td>NaN</td>\n      <td>NaN</td>\n      <td>NaN</td>\n      <td>NaN</td>\n      <td>NaN</td>\n      <td>-0.748249</td>\n      <td>-0.635231</td>\n    </tr>\n    <tr>\n      <th>angle(Y,gravityMean)</th>\n      <td>NaN</td>\n      <td>NaN</td>\n      <td>NaN</td>\n      <td>NaN</td>\n      <td>NaN</td>\n      <td>NaN</td>\n      <td>NaN</td>\n      <td>NaN</td>\n      <td>NaN</td>\n      <td>NaN</td>\n      <td>...</td>\n      <td>NaN</td>\n      <td>NaN</td>\n      <td>NaN</td>\n      <td>NaN</td>\n      <td>NaN</td>\n      <td>NaN</td>\n      <td>NaN</td>\n      <td>NaN</td>\n      <td>NaN</td>\n      <td>0.545614</td>\n    </tr>\n    <tr>\n      <th>angle(Z,gravityMean)</th>\n      <td>NaN</td>\n      <td>NaN</td>\n      <td>NaN</td>\n      <td>NaN</td>\n      <td>NaN</td>\n      <td>NaN</td>\n      <td>NaN</td>\n      <td>NaN</td>\n      <td>NaN</td>\n      <td>NaN</td>\n      <td>...</td>\n      <td>NaN</td>\n      <td>NaN</td>\n      <td>NaN</td>\n      <td>NaN</td>\n      <td>NaN</td>\n      <td>NaN</td>\n      <td>NaN</td>\n      <td>NaN</td>\n      <td>NaN</td>\n      <td>NaN</td>\n    </tr>\n  </tbody>\n</table>\n<p>561 rows × 561 columns</p>\n</div>"
     },
     "metadata": {},
     "execution_count": 68
    }
   ],
   "source": [
    "# Make the unused values NaNs\n",
    "for coord in zip(*tril_index):\n",
    "    corr_values.iloc[coord[0], coord[1]] = np.NaN\n",
    "corr_values"
   ]
  },
  {
   "cell_type": "code",
   "execution_count": 70,
   "metadata": {},
   "outputs": [
    {
     "output_type": "execute_result",
     "data": {
      "text/plain": [
       "                                    feature1              feature2  \\\n",
       "0                          tBodyAcc-mean()-X     tBodyAcc-mean()-Y   \n",
       "1                          tBodyAcc-mean()-X     tBodyAcc-mean()-Z   \n",
       "2                          tBodyAcc-mean()-X      tBodyAcc-std()-X   \n",
       "3                          tBodyAcc-mean()-X      tBodyAcc-std()-Y   \n",
       "4                          tBodyAcc-mean()-X      tBodyAcc-std()-Z   \n",
       "...                                      ...                   ...   \n",
       "157075  angle(tBodyGyroJerkMean,gravityMean)  angle(Y,gravityMean)   \n",
       "157076  angle(tBodyGyroJerkMean,gravityMean)  angle(Z,gravityMean)   \n",
       "157077                  angle(X,gravityMean)  angle(Y,gravityMean)   \n",
       "157078                  angle(X,gravityMean)  angle(Z,gravityMean)   \n",
       "157079                  angle(Y,gravityMean)  angle(Z,gravityMean)   \n",
       "\n",
       "        correlation  \n",
       "0          0.128037  \n",
       "1         -0.230302  \n",
       "2          0.004590  \n",
       "3         -0.016785  \n",
       "4         -0.036071  \n",
       "...             ...  \n",
       "157075    -0.004582  \n",
       "157076    -0.012549  \n",
       "157077    -0.748249  \n",
       "157078    -0.635231  \n",
       "157079     0.545614  \n",
       "\n",
       "[157080 rows x 3 columns]"
      ],
      "text/html": "<div>\n<style scoped>\n    .dataframe tbody tr th:only-of-type {\n        vertical-align: middle;\n    }\n\n    .dataframe tbody tr th {\n        vertical-align: top;\n    }\n\n    .dataframe thead th {\n        text-align: right;\n    }\n</style>\n<table border=\"1\" class=\"dataframe\">\n  <thead>\n    <tr style=\"text-align: right;\">\n      <th></th>\n      <th>feature1</th>\n      <th>feature2</th>\n      <th>correlation</th>\n    </tr>\n  </thead>\n  <tbody>\n    <tr>\n      <th>0</th>\n      <td>tBodyAcc-mean()-X</td>\n      <td>tBodyAcc-mean()-Y</td>\n      <td>0.128037</td>\n    </tr>\n    <tr>\n      <th>1</th>\n      <td>tBodyAcc-mean()-X</td>\n      <td>tBodyAcc-mean()-Z</td>\n      <td>-0.230302</td>\n    </tr>\n    <tr>\n      <th>2</th>\n      <td>tBodyAcc-mean()-X</td>\n      <td>tBodyAcc-std()-X</td>\n      <td>0.004590</td>\n    </tr>\n    <tr>\n      <th>3</th>\n      <td>tBodyAcc-mean()-X</td>\n      <td>tBodyAcc-std()-Y</td>\n      <td>-0.016785</td>\n    </tr>\n    <tr>\n      <th>4</th>\n      <td>tBodyAcc-mean()-X</td>\n      <td>tBodyAcc-std()-Z</td>\n      <td>-0.036071</td>\n    </tr>\n    <tr>\n      <th>...</th>\n      <td>...</td>\n      <td>...</td>\n      <td>...</td>\n    </tr>\n    <tr>\n      <th>157075</th>\n      <td>angle(tBodyGyroJerkMean,gravityMean)</td>\n      <td>angle(Y,gravityMean)</td>\n      <td>-0.004582</td>\n    </tr>\n    <tr>\n      <th>157076</th>\n      <td>angle(tBodyGyroJerkMean,gravityMean)</td>\n      <td>angle(Z,gravityMean)</td>\n      <td>-0.012549</td>\n    </tr>\n    <tr>\n      <th>157077</th>\n      <td>angle(X,gravityMean)</td>\n      <td>angle(Y,gravityMean)</td>\n      <td>-0.748249</td>\n    </tr>\n    <tr>\n      <th>157078</th>\n      <td>angle(X,gravityMean)</td>\n      <td>angle(Z,gravityMean)</td>\n      <td>-0.635231</td>\n    </tr>\n    <tr>\n      <th>157079</th>\n      <td>angle(Y,gravityMean)</td>\n      <td>angle(Z,gravityMean)</td>\n      <td>0.545614</td>\n    </tr>\n  </tbody>\n</table>\n<p>157080 rows × 3 columns</p>\n</div>"
     },
     "metadata": {},
     "execution_count": 70
    }
   ],
   "source": [
    "# Stack the data and convert to a data frame\n",
    "corr_values = (corr_values.stack().to_frame().reset_index().rename(columns={'level_0':'feature1','level_1':'feature2',0:'correlation'}))\n",
    "corr_values"
   ]
  },
  {
   "cell_type": "code",
   "execution_count": 71,
   "metadata": {},
   "outputs": [
    {
     "output_type": "execute_result",
     "data": {
      "text/plain": [
       "                                    feature1              feature2  \\\n",
       "0                          tBodyAcc-mean()-X     tBodyAcc-mean()-Y   \n",
       "1                          tBodyAcc-mean()-X     tBodyAcc-mean()-Z   \n",
       "2                          tBodyAcc-mean()-X      tBodyAcc-std()-X   \n",
       "3                          tBodyAcc-mean()-X      tBodyAcc-std()-Y   \n",
       "4                          tBodyAcc-mean()-X      tBodyAcc-std()-Z   \n",
       "...                                      ...                   ...   \n",
       "157075  angle(tBodyGyroJerkMean,gravityMean)  angle(Y,gravityMean)   \n",
       "157076  angle(tBodyGyroJerkMean,gravityMean)  angle(Z,gravityMean)   \n",
       "157077                  angle(X,gravityMean)  angle(Y,gravityMean)   \n",
       "157078                  angle(X,gravityMean)  angle(Z,gravityMean)   \n",
       "157079                  angle(Y,gravityMean)  angle(Z,gravityMean)   \n",
       "\n",
       "        correlation  abs_correlation  \n",
       "0          0.128037         0.128037  \n",
       "1         -0.230302         0.230302  \n",
       "2          0.004590         0.004590  \n",
       "3         -0.016785         0.016785  \n",
       "4         -0.036071         0.036071  \n",
       "...             ...              ...  \n",
       "157075    -0.004582         0.004582  \n",
       "157076    -0.012549         0.012549  \n",
       "157077    -0.748249         0.748249  \n",
       "157078    -0.635231         0.635231  \n",
       "157079     0.545614         0.545614  \n",
       "\n",
       "[157080 rows x 4 columns]"
      ],
      "text/html": "<div>\n<style scoped>\n    .dataframe tbody tr th:only-of-type {\n        vertical-align: middle;\n    }\n\n    .dataframe tbody tr th {\n        vertical-align: top;\n    }\n\n    .dataframe thead th {\n        text-align: right;\n    }\n</style>\n<table border=\"1\" class=\"dataframe\">\n  <thead>\n    <tr style=\"text-align: right;\">\n      <th></th>\n      <th>feature1</th>\n      <th>feature2</th>\n      <th>correlation</th>\n      <th>abs_correlation</th>\n    </tr>\n  </thead>\n  <tbody>\n    <tr>\n      <th>0</th>\n      <td>tBodyAcc-mean()-X</td>\n      <td>tBodyAcc-mean()-Y</td>\n      <td>0.128037</td>\n      <td>0.128037</td>\n    </tr>\n    <tr>\n      <th>1</th>\n      <td>tBodyAcc-mean()-X</td>\n      <td>tBodyAcc-mean()-Z</td>\n      <td>-0.230302</td>\n      <td>0.230302</td>\n    </tr>\n    <tr>\n      <th>2</th>\n      <td>tBodyAcc-mean()-X</td>\n      <td>tBodyAcc-std()-X</td>\n      <td>0.004590</td>\n      <td>0.004590</td>\n    </tr>\n    <tr>\n      <th>3</th>\n      <td>tBodyAcc-mean()-X</td>\n      <td>tBodyAcc-std()-Y</td>\n      <td>-0.016785</td>\n      <td>0.016785</td>\n    </tr>\n    <tr>\n      <th>4</th>\n      <td>tBodyAcc-mean()-X</td>\n      <td>tBodyAcc-std()-Z</td>\n      <td>-0.036071</td>\n      <td>0.036071</td>\n    </tr>\n    <tr>\n      <th>...</th>\n      <td>...</td>\n      <td>...</td>\n      <td>...</td>\n      <td>...</td>\n    </tr>\n    <tr>\n      <th>157075</th>\n      <td>angle(tBodyGyroJerkMean,gravityMean)</td>\n      <td>angle(Y,gravityMean)</td>\n      <td>-0.004582</td>\n      <td>0.004582</td>\n    </tr>\n    <tr>\n      <th>157076</th>\n      <td>angle(tBodyGyroJerkMean,gravityMean)</td>\n      <td>angle(Z,gravityMean)</td>\n      <td>-0.012549</td>\n      <td>0.012549</td>\n    </tr>\n    <tr>\n      <th>157077</th>\n      <td>angle(X,gravityMean)</td>\n      <td>angle(Y,gravityMean)</td>\n      <td>-0.748249</td>\n      <td>0.748249</td>\n    </tr>\n    <tr>\n      <th>157078</th>\n      <td>angle(X,gravityMean)</td>\n      <td>angle(Z,gravityMean)</td>\n      <td>-0.635231</td>\n      <td>0.635231</td>\n    </tr>\n    <tr>\n      <th>157079</th>\n      <td>angle(Y,gravityMean)</td>\n      <td>angle(Z,gravityMean)</td>\n      <td>0.545614</td>\n      <td>0.545614</td>\n    </tr>\n  </tbody>\n</table>\n<p>157080 rows × 4 columns</p>\n</div>"
     },
     "metadata": {},
     "execution_count": 71
    }
   ],
   "source": [
    "# Get the absolute values for sorting\n",
    "corr_values['abs_correlation'] = corr_values.correlation.abs()\n",
    "corr_values"
   ]
  },
  {
   "cell_type": "markdown",
   "metadata": {},
   "source": [
    "A histogram of the absolute value correlations."
   ]
  },
  {
   "cell_type": "code",
   "execution_count": 72,
   "metadata": {
    "collapsed": true
   },
   "outputs": [],
   "source": [
    "import matplotlib.pyplot as plt\n",
    "import seaborn as sns\n",
    "%matplotlib inline"
   ]
  },
  {
   "cell_type": "code",
   "execution_count": 73,
   "metadata": {},
   "outputs": [
    {
     "output_type": "execute_result",
     "data": {
      "text/plain": [
       "[Text(0.5, 0, 'Absolute Correlation'), Text(0, 0.5, 'Frequency')]"
      ]
     },
     "metadata": {},
     "execution_count": 73
    },
    {
     "output_type": "display_data",
     "data": {
      "text/plain": "<Figure size 432x288 with 1 Axes>",
      "image/svg+xml": "<?xml version=\"1.0\" encoding=\"utf-8\" standalone=\"no\"?>\n<!DOCTYPE svg PUBLIC \"-//W3C//DTD SVG 1.1//EN\"\n  \"http://www.w3.org/Graphics/SVG/1.1/DTD/svg11.dtd\">\n<!-- Created with matplotlib (https://matplotlib.org/) -->\n<svg height=\"287.902611pt\" version=\"1.1\" viewBox=\"0 0 435.61125 287.902611\" width=\"435.61125pt\" xmlns=\"http://www.w3.org/2000/svg\" xmlns:xlink=\"http://www.w3.org/1999/xlink\">\n <metadata>\n  <rdf:RDF xmlns:cc=\"http://creativecommons.org/ns#\" xmlns:dc=\"http://purl.org/dc/elements/1.1/\" xmlns:rdf=\"http://www.w3.org/1999/02/22-rdf-syntax-ns#\">\n   <cc:Work>\n    <dc:type rdf:resource=\"http://purl.org/dc/dcmitype/StillImage\"/>\n    <dc:date>2021-02-06T11:41:23.217977</dc:date>\n    <dc:format>image/svg+xml</dc:format>\n    <dc:creator>\n     <cc:Agent>\n      <dc:title>Matplotlib v3.3.3, https://matplotlib.org/</dc:title>\n     </cc:Agent>\n    </dc:creator>\n   </cc:Work>\n  </rdf:RDF>\n </metadata>\n <defs>\n  <style type=\"text/css\">*{stroke-linecap:butt;stroke-linejoin:round;}</style>\n </defs>\n <g id=\"figure_1\">\n  <g id=\"patch_1\">\n   <path d=\"M 0 287.902611 \nL 435.61125 287.902611 \nL 435.61125 0 \nL 0 0 \nz\n\" style=\"fill:#ffffff;\"/>\n  </g>\n  <g id=\"axes_1\">\n   <g id=\"patch_2\">\n    <path d=\"M 93.61125 230.813079 \nL 428.41125 230.813079 \nL 428.41125 13.373079 \nL 93.61125 13.373079 \nz\n\" style=\"fill:#ffffff;\"/>\n   </g>\n   <g id=\"matplotlib.axis_1\">\n    <g id=\"xtick_1\">\n     <g id=\"line2d_1\">\n      <path clip-path=\"url(#peff636dda5)\" d=\"M 108.828661 230.813079 \nL 108.828661 13.373079 \n\" style=\"fill:none;stroke:#cccccc;stroke-linecap:round;stroke-width:1.5;\"/>\n     </g>\n     <g id=\"text_1\">\n      <!-- 0.0 -->\n      <g style=\"fill:#262626;\" transform=\"translate(95.708583 255.850501)scale(0.165 -0.165)\">\n       <defs>\n        <path d=\"M 31.78125 66.40625 \nQ 24.171875 66.40625 20.328125 58.90625 \nQ 16.5 51.421875 16.5 36.375 \nQ 16.5 21.390625 20.328125 13.890625 \nQ 24.171875 6.390625 31.78125 6.390625 \nQ 39.453125 6.390625 43.28125 13.890625 \nQ 47.125 21.390625 47.125 36.375 \nQ 47.125 51.421875 43.28125 58.90625 \nQ 39.453125 66.40625 31.78125 66.40625 \nz\nM 31.78125 74.21875 \nQ 44.046875 74.21875 50.515625 64.515625 \nQ 56.984375 54.828125 56.984375 36.375 \nQ 56.984375 17.96875 50.515625 8.265625 \nQ 44.046875 -1.421875 31.78125 -1.421875 \nQ 19.53125 -1.421875 13.0625 8.265625 \nQ 6.59375 17.96875 6.59375 36.375 \nQ 6.59375 54.828125 13.0625 64.515625 \nQ 19.53125 74.21875 31.78125 74.21875 \nz\n\" id=\"DejaVuSans-48\"/>\n        <path d=\"M 10.6875 12.40625 \nL 21 12.40625 \nL 21 0 \nL 10.6875 0 \nz\n\" id=\"DejaVuSans-46\"/>\n       </defs>\n       <use xlink:href=\"#DejaVuSans-48\"/>\n       <use x=\"63.623047\" xlink:href=\"#DejaVuSans-46\"/>\n       <use x=\"95.410156\" xlink:href=\"#DejaVuSans-48\"/>\n      </g>\n     </g>\n    </g>\n    <g id=\"xtick_2\">\n     <g id=\"line2d_2\">\n      <path clip-path=\"url(#peff636dda5)\" d=\"M 169.701543 230.813079 \nL 169.701543 13.373079 \n\" style=\"fill:none;stroke:#cccccc;stroke-linecap:round;stroke-width:1.5;\"/>\n     </g>\n     <g id=\"text_2\">\n      <!-- 0.2 -->\n      <g style=\"fill:#262626;\" transform=\"translate(156.581465 255.850501)scale(0.165 -0.165)\">\n       <defs>\n        <path d=\"M 19.1875 8.296875 \nL 53.609375 8.296875 \nL 53.609375 0 \nL 7.328125 0 \nL 7.328125 8.296875 \nQ 12.9375 14.109375 22.625 23.890625 \nQ 32.328125 33.6875 34.8125 36.53125 \nQ 39.546875 41.84375 41.421875 45.53125 \nQ 43.3125 49.21875 43.3125 52.78125 \nQ 43.3125 58.59375 39.234375 62.25 \nQ 35.15625 65.921875 28.609375 65.921875 \nQ 23.96875 65.921875 18.8125 64.3125 \nQ 13.671875 62.703125 7.8125 59.421875 \nL 7.8125 69.390625 \nQ 13.765625 71.78125 18.9375 73 \nQ 24.125 74.21875 28.421875 74.21875 \nQ 39.75 74.21875 46.484375 68.546875 \nQ 53.21875 62.890625 53.21875 53.421875 \nQ 53.21875 48.921875 51.53125 44.890625 \nQ 49.859375 40.875 45.40625 35.40625 \nQ 44.1875 33.984375 37.640625 27.21875 \nQ 31.109375 20.453125 19.1875 8.296875 \nz\n\" id=\"DejaVuSans-50\"/>\n       </defs>\n       <use xlink:href=\"#DejaVuSans-48\"/>\n       <use x=\"63.623047\" xlink:href=\"#DejaVuSans-46\"/>\n       <use x=\"95.410156\" xlink:href=\"#DejaVuSans-50\"/>\n      </g>\n     </g>\n    </g>\n    <g id=\"xtick_3\">\n     <g id=\"line2d_3\">\n      <path clip-path=\"url(#peff636dda5)\" d=\"M 230.574424 230.813079 \nL 230.574424 13.373079 \n\" style=\"fill:none;stroke:#cccccc;stroke-linecap:round;stroke-width:1.5;\"/>\n     </g>\n     <g id=\"text_3\">\n      <!-- 0.4 -->\n      <g style=\"fill:#262626;\" transform=\"translate(217.454346 255.850501)scale(0.165 -0.165)\">\n       <defs>\n        <path d=\"M 37.796875 64.3125 \nL 12.890625 25.390625 \nL 37.796875 25.390625 \nz\nM 35.203125 72.90625 \nL 47.609375 72.90625 \nL 47.609375 25.390625 \nL 58.015625 25.390625 \nL 58.015625 17.1875 \nL 47.609375 17.1875 \nL 47.609375 0 \nL 37.796875 0 \nL 37.796875 17.1875 \nL 4.890625 17.1875 \nL 4.890625 26.703125 \nz\n\" id=\"DejaVuSans-52\"/>\n       </defs>\n       <use xlink:href=\"#DejaVuSans-48\"/>\n       <use x=\"63.623047\" xlink:href=\"#DejaVuSans-46\"/>\n       <use x=\"95.410156\" xlink:href=\"#DejaVuSans-52\"/>\n      </g>\n     </g>\n    </g>\n    <g id=\"xtick_4\">\n     <g id=\"line2d_4\">\n      <path clip-path=\"url(#peff636dda5)\" d=\"M 291.447305 230.813079 \nL 291.447305 13.373079 \n\" style=\"fill:none;stroke:#cccccc;stroke-linecap:round;stroke-width:1.5;\"/>\n     </g>\n     <g id=\"text_4\">\n      <!-- 0.6 -->\n      <g style=\"fill:#262626;\" transform=\"translate(278.327227 255.850501)scale(0.165 -0.165)\">\n       <defs>\n        <path d=\"M 33.015625 40.375 \nQ 26.375 40.375 22.484375 35.828125 \nQ 18.609375 31.296875 18.609375 23.390625 \nQ 18.609375 15.53125 22.484375 10.953125 \nQ 26.375 6.390625 33.015625 6.390625 \nQ 39.65625 6.390625 43.53125 10.953125 \nQ 47.40625 15.53125 47.40625 23.390625 \nQ 47.40625 31.296875 43.53125 35.828125 \nQ 39.65625 40.375 33.015625 40.375 \nz\nM 52.59375 71.296875 \nL 52.59375 62.3125 \nQ 48.875 64.0625 45.09375 64.984375 \nQ 41.3125 65.921875 37.59375 65.921875 \nQ 27.828125 65.921875 22.671875 59.328125 \nQ 17.53125 52.734375 16.796875 39.40625 \nQ 19.671875 43.65625 24.015625 45.921875 \nQ 28.375 48.1875 33.59375 48.1875 \nQ 44.578125 48.1875 50.953125 41.515625 \nQ 57.328125 34.859375 57.328125 23.390625 \nQ 57.328125 12.15625 50.6875 5.359375 \nQ 44.046875 -1.421875 33.015625 -1.421875 \nQ 20.359375 -1.421875 13.671875 8.265625 \nQ 6.984375 17.96875 6.984375 36.375 \nQ 6.984375 53.65625 15.1875 63.9375 \nQ 23.390625 74.21875 37.203125 74.21875 \nQ 40.921875 74.21875 44.703125 73.484375 \nQ 48.484375 72.75 52.59375 71.296875 \nz\n\" id=\"DejaVuSans-54\"/>\n       </defs>\n       <use xlink:href=\"#DejaVuSans-48\"/>\n       <use x=\"63.623047\" xlink:href=\"#DejaVuSans-46\"/>\n       <use x=\"95.410156\" xlink:href=\"#DejaVuSans-54\"/>\n      </g>\n     </g>\n    </g>\n    <g id=\"xtick_5\">\n     <g id=\"line2d_5\">\n      <path clip-path=\"url(#peff636dda5)\" d=\"M 352.320187 230.813079 \nL 352.320187 13.373079 \n\" style=\"fill:none;stroke:#cccccc;stroke-linecap:round;stroke-width:1.5;\"/>\n     </g>\n     <g id=\"text_5\">\n      <!-- 0.8 -->\n      <g style=\"fill:#262626;\" transform=\"translate(339.200109 255.850501)scale(0.165 -0.165)\">\n       <defs>\n        <path d=\"M 31.78125 34.625 \nQ 24.75 34.625 20.71875 30.859375 \nQ 16.703125 27.09375 16.703125 20.515625 \nQ 16.703125 13.921875 20.71875 10.15625 \nQ 24.75 6.390625 31.78125 6.390625 \nQ 38.8125 6.390625 42.859375 10.171875 \nQ 46.921875 13.96875 46.921875 20.515625 \nQ 46.921875 27.09375 42.890625 30.859375 \nQ 38.875 34.625 31.78125 34.625 \nz\nM 21.921875 38.8125 \nQ 15.578125 40.375 12.03125 44.71875 \nQ 8.5 49.078125 8.5 55.328125 \nQ 8.5 64.0625 14.71875 69.140625 \nQ 20.953125 74.21875 31.78125 74.21875 \nQ 42.671875 74.21875 48.875 69.140625 \nQ 55.078125 64.0625 55.078125 55.328125 \nQ 55.078125 49.078125 51.53125 44.71875 \nQ 48 40.375 41.703125 38.8125 \nQ 48.828125 37.15625 52.796875 32.3125 \nQ 56.78125 27.484375 56.78125 20.515625 \nQ 56.78125 9.90625 50.3125 4.234375 \nQ 43.84375 -1.421875 31.78125 -1.421875 \nQ 19.734375 -1.421875 13.25 4.234375 \nQ 6.78125 9.90625 6.78125 20.515625 \nQ 6.78125 27.484375 10.78125 32.3125 \nQ 14.796875 37.15625 21.921875 38.8125 \nz\nM 18.3125 54.390625 \nQ 18.3125 48.734375 21.84375 45.5625 \nQ 25.390625 42.390625 31.78125 42.390625 \nQ 38.140625 42.390625 41.71875 45.5625 \nQ 45.3125 48.734375 45.3125 54.390625 \nQ 45.3125 60.0625 41.71875 63.234375 \nQ 38.140625 66.40625 31.78125 66.40625 \nQ 25.390625 66.40625 21.84375 63.234375 \nQ 18.3125 60.0625 18.3125 54.390625 \nz\n\" id=\"DejaVuSans-56\"/>\n       </defs>\n       <use xlink:href=\"#DejaVuSans-48\"/>\n       <use x=\"63.623047\" xlink:href=\"#DejaVuSans-46\"/>\n       <use x=\"95.410156\" xlink:href=\"#DejaVuSans-56\"/>\n      </g>\n     </g>\n    </g>\n    <g id=\"xtick_6\">\n     <g id=\"line2d_6\">\n      <path clip-path=\"url(#peff636dda5)\" d=\"M 413.193068 230.813079 \nL 413.193068 13.373079 \n\" style=\"fill:none;stroke:#cccccc;stroke-linecap:round;stroke-width:1.5;\"/>\n     </g>\n     <g id=\"text_6\">\n      <!-- 1.0 -->\n      <g style=\"fill:#262626;\" transform=\"translate(400.07299 255.850501)scale(0.165 -0.165)\">\n       <defs>\n        <path d=\"M 12.40625 8.296875 \nL 28.515625 8.296875 \nL 28.515625 63.921875 \nL 10.984375 60.40625 \nL 10.984375 69.390625 \nL 28.421875 72.90625 \nL 38.28125 72.90625 \nL 38.28125 8.296875 \nL 54.390625 8.296875 \nL 54.390625 0 \nL 12.40625 0 \nz\n\" id=\"DejaVuSans-49\"/>\n       </defs>\n       <use xlink:href=\"#DejaVuSans-49\"/>\n       <use x=\"63.623047\" xlink:href=\"#DejaVuSans-46\"/>\n       <use x=\"95.410156\" xlink:href=\"#DejaVuSans-48\"/>\n      </g>\n     </g>\n    </g>\n    <g id=\"text_7\">\n     <!-- Absolute Correlation -->\n     <g style=\"fill:#262626;\" transform=\"translate(169.191563 276.959173)scale(0.18 -0.18)\">\n      <defs>\n       <path d=\"M 34.1875 63.1875 \nL 20.796875 26.90625 \nL 47.609375 26.90625 \nz\nM 28.609375 72.90625 \nL 39.796875 72.90625 \nL 67.578125 0 \nL 57.328125 0 \nL 50.6875 18.703125 \nL 17.828125 18.703125 \nL 11.1875 0 \nL 0.78125 0 \nz\n\" id=\"DejaVuSans-65\"/>\n       <path d=\"M 48.6875 27.296875 \nQ 48.6875 37.203125 44.609375 42.84375 \nQ 40.53125 48.484375 33.40625 48.484375 \nQ 26.265625 48.484375 22.1875 42.84375 \nQ 18.109375 37.203125 18.109375 27.296875 \nQ 18.109375 17.390625 22.1875 11.75 \nQ 26.265625 6.109375 33.40625 6.109375 \nQ 40.53125 6.109375 44.609375 11.75 \nQ 48.6875 17.390625 48.6875 27.296875 \nz\nM 18.109375 46.390625 \nQ 20.953125 51.265625 25.265625 53.625 \nQ 29.59375 56 35.59375 56 \nQ 45.5625 56 51.78125 48.09375 \nQ 58.015625 40.1875 58.015625 27.296875 \nQ 58.015625 14.40625 51.78125 6.484375 \nQ 45.5625 -1.421875 35.59375 -1.421875 \nQ 29.59375 -1.421875 25.265625 0.953125 \nQ 20.953125 3.328125 18.109375 8.203125 \nL 18.109375 0 \nL 9.078125 0 \nL 9.078125 75.984375 \nL 18.109375 75.984375 \nz\n\" id=\"DejaVuSans-98\"/>\n       <path d=\"M 44.28125 53.078125 \nL 44.28125 44.578125 \nQ 40.484375 46.53125 36.375 47.5 \nQ 32.28125 48.484375 27.875 48.484375 \nQ 21.1875 48.484375 17.84375 46.4375 \nQ 14.5 44.390625 14.5 40.28125 \nQ 14.5 37.15625 16.890625 35.375 \nQ 19.28125 33.59375 26.515625 31.984375 \nL 29.59375 31.296875 \nQ 39.15625 29.25 43.1875 25.515625 \nQ 47.21875 21.78125 47.21875 15.09375 \nQ 47.21875 7.46875 41.1875 3.015625 \nQ 35.15625 -1.421875 24.609375 -1.421875 \nQ 20.21875 -1.421875 15.453125 -0.5625 \nQ 10.6875 0.296875 5.421875 2 \nL 5.421875 11.28125 \nQ 10.40625 8.6875 15.234375 7.390625 \nQ 20.0625 6.109375 24.8125 6.109375 \nQ 31.15625 6.109375 34.5625 8.28125 \nQ 37.984375 10.453125 37.984375 14.40625 \nQ 37.984375 18.0625 35.515625 20.015625 \nQ 33.0625 21.96875 24.703125 23.78125 \nL 21.578125 24.515625 \nQ 13.234375 26.265625 9.515625 29.90625 \nQ 5.8125 33.546875 5.8125 39.890625 \nQ 5.8125 47.609375 11.28125 51.796875 \nQ 16.75 56 26.8125 56 \nQ 31.78125 56 36.171875 55.265625 \nQ 40.578125 54.546875 44.28125 53.078125 \nz\n\" id=\"DejaVuSans-115\"/>\n       <path d=\"M 30.609375 48.390625 \nQ 23.390625 48.390625 19.1875 42.75 \nQ 14.984375 37.109375 14.984375 27.296875 \nQ 14.984375 17.484375 19.15625 11.84375 \nQ 23.34375 6.203125 30.609375 6.203125 \nQ 37.796875 6.203125 41.984375 11.859375 \nQ 46.1875 17.53125 46.1875 27.296875 \nQ 46.1875 37.015625 41.984375 42.703125 \nQ 37.796875 48.390625 30.609375 48.390625 \nz\nM 30.609375 56 \nQ 42.328125 56 49.015625 48.375 \nQ 55.71875 40.765625 55.71875 27.296875 \nQ 55.71875 13.875 49.015625 6.21875 \nQ 42.328125 -1.421875 30.609375 -1.421875 \nQ 18.84375 -1.421875 12.171875 6.21875 \nQ 5.515625 13.875 5.515625 27.296875 \nQ 5.515625 40.765625 12.171875 48.375 \nQ 18.84375 56 30.609375 56 \nz\n\" id=\"DejaVuSans-111\"/>\n       <path d=\"M 9.421875 75.984375 \nL 18.40625 75.984375 \nL 18.40625 0 \nL 9.421875 0 \nz\n\" id=\"DejaVuSans-108\"/>\n       <path d=\"M 8.5 21.578125 \nL 8.5 54.6875 \nL 17.484375 54.6875 \nL 17.484375 21.921875 \nQ 17.484375 14.15625 20.5 10.265625 \nQ 23.53125 6.390625 29.59375 6.390625 \nQ 36.859375 6.390625 41.078125 11.03125 \nQ 45.3125 15.671875 45.3125 23.6875 \nL 45.3125 54.6875 \nL 54.296875 54.6875 \nL 54.296875 0 \nL 45.3125 0 \nL 45.3125 8.40625 \nQ 42.046875 3.421875 37.71875 1 \nQ 33.40625 -1.421875 27.6875 -1.421875 \nQ 18.265625 -1.421875 13.375 4.4375 \nQ 8.5 10.296875 8.5 21.578125 \nz\nM 31.109375 56 \nz\n\" id=\"DejaVuSans-117\"/>\n       <path d=\"M 18.3125 70.21875 \nL 18.3125 54.6875 \nL 36.8125 54.6875 \nL 36.8125 47.703125 \nL 18.3125 47.703125 \nL 18.3125 18.015625 \nQ 18.3125 11.328125 20.140625 9.421875 \nQ 21.96875 7.515625 27.59375 7.515625 \nL 36.8125 7.515625 \nL 36.8125 0 \nL 27.59375 0 \nQ 17.1875 0 13.234375 3.875 \nQ 9.28125 7.765625 9.28125 18.015625 \nL 9.28125 47.703125 \nL 2.6875 47.703125 \nL 2.6875 54.6875 \nL 9.28125 54.6875 \nL 9.28125 70.21875 \nz\n\" id=\"DejaVuSans-116\"/>\n       <path d=\"M 56.203125 29.59375 \nL 56.203125 25.203125 \nL 14.890625 25.203125 \nQ 15.484375 15.921875 20.484375 11.0625 \nQ 25.484375 6.203125 34.421875 6.203125 \nQ 39.59375 6.203125 44.453125 7.46875 \nQ 49.3125 8.734375 54.109375 11.28125 \nL 54.109375 2.78125 \nQ 49.265625 0.734375 44.1875 -0.34375 \nQ 39.109375 -1.421875 33.890625 -1.421875 \nQ 20.796875 -1.421875 13.15625 6.1875 \nQ 5.515625 13.8125 5.515625 26.8125 \nQ 5.515625 40.234375 12.765625 48.109375 \nQ 20.015625 56 32.328125 56 \nQ 43.359375 56 49.78125 48.890625 \nQ 56.203125 41.796875 56.203125 29.59375 \nz\nM 47.21875 32.234375 \nQ 47.125 39.59375 43.09375 43.984375 \nQ 39.0625 48.390625 32.421875 48.390625 \nQ 24.90625 48.390625 20.390625 44.140625 \nQ 15.875 39.890625 15.1875 32.171875 \nz\n\" id=\"DejaVuSans-101\"/>\n       <path id=\"DejaVuSans-32\"/>\n       <path d=\"M 64.40625 67.28125 \nL 64.40625 56.890625 \nQ 59.421875 61.53125 53.78125 63.8125 \nQ 48.140625 66.109375 41.796875 66.109375 \nQ 29.296875 66.109375 22.65625 58.46875 \nQ 16.015625 50.828125 16.015625 36.375 \nQ 16.015625 21.96875 22.65625 14.328125 \nQ 29.296875 6.6875 41.796875 6.6875 \nQ 48.140625 6.6875 53.78125 8.984375 \nQ 59.421875 11.28125 64.40625 15.921875 \nL 64.40625 5.609375 \nQ 59.234375 2.09375 53.4375 0.328125 \nQ 47.65625 -1.421875 41.21875 -1.421875 \nQ 24.65625 -1.421875 15.125 8.703125 \nQ 5.609375 18.84375 5.609375 36.375 \nQ 5.609375 53.953125 15.125 64.078125 \nQ 24.65625 74.21875 41.21875 74.21875 \nQ 47.75 74.21875 53.53125 72.484375 \nQ 59.328125 70.75 64.40625 67.28125 \nz\n\" id=\"DejaVuSans-67\"/>\n       <path d=\"M 41.109375 46.296875 \nQ 39.59375 47.171875 37.8125 47.578125 \nQ 36.03125 48 33.890625 48 \nQ 26.265625 48 22.1875 43.046875 \nQ 18.109375 38.09375 18.109375 28.8125 \nL 18.109375 0 \nL 9.078125 0 \nL 9.078125 54.6875 \nL 18.109375 54.6875 \nL 18.109375 46.1875 \nQ 20.953125 51.171875 25.484375 53.578125 \nQ 30.03125 56 36.53125 56 \nQ 37.453125 56 38.578125 55.875 \nQ 39.703125 55.765625 41.0625 55.515625 \nz\n\" id=\"DejaVuSans-114\"/>\n       <path d=\"M 34.28125 27.484375 \nQ 23.390625 27.484375 19.1875 25 \nQ 14.984375 22.515625 14.984375 16.5 \nQ 14.984375 11.71875 18.140625 8.90625 \nQ 21.296875 6.109375 26.703125 6.109375 \nQ 34.1875 6.109375 38.703125 11.40625 \nQ 43.21875 16.703125 43.21875 25.484375 \nL 43.21875 27.484375 \nz\nM 52.203125 31.203125 \nL 52.203125 0 \nL 43.21875 0 \nL 43.21875 8.296875 \nQ 40.140625 3.328125 35.546875 0.953125 \nQ 30.953125 -1.421875 24.3125 -1.421875 \nQ 15.921875 -1.421875 10.953125 3.296875 \nQ 6 8.015625 6 15.921875 \nQ 6 25.140625 12.171875 29.828125 \nQ 18.359375 34.515625 30.609375 34.515625 \nL 43.21875 34.515625 \nL 43.21875 35.40625 \nQ 43.21875 41.609375 39.140625 45 \nQ 35.0625 48.390625 27.6875 48.390625 \nQ 23 48.390625 18.546875 47.265625 \nQ 14.109375 46.140625 10.015625 43.890625 \nL 10.015625 52.203125 \nQ 14.9375 54.109375 19.578125 55.046875 \nQ 24.21875 56 28.609375 56 \nQ 40.484375 56 46.34375 49.84375 \nQ 52.203125 43.703125 52.203125 31.203125 \nz\n\" id=\"DejaVuSans-97\"/>\n       <path d=\"M 9.421875 54.6875 \nL 18.40625 54.6875 \nL 18.40625 0 \nL 9.421875 0 \nz\nM 9.421875 75.984375 \nL 18.40625 75.984375 \nL 18.40625 64.59375 \nL 9.421875 64.59375 \nz\n\" id=\"DejaVuSans-105\"/>\n       <path d=\"M 54.890625 33.015625 \nL 54.890625 0 \nL 45.90625 0 \nL 45.90625 32.71875 \nQ 45.90625 40.484375 42.875 44.328125 \nQ 39.84375 48.1875 33.796875 48.1875 \nQ 26.515625 48.1875 22.3125 43.546875 \nQ 18.109375 38.921875 18.109375 30.90625 \nL 18.109375 0 \nL 9.078125 0 \nL 9.078125 54.6875 \nL 18.109375 54.6875 \nL 18.109375 46.1875 \nQ 21.34375 51.125 25.703125 53.5625 \nQ 30.078125 56 35.796875 56 \nQ 45.21875 56 50.046875 50.171875 \nQ 54.890625 44.34375 54.890625 33.015625 \nz\n\" id=\"DejaVuSans-110\"/>\n      </defs>\n      <use xlink:href=\"#DejaVuSans-65\"/>\n      <use x=\"68.408203\" xlink:href=\"#DejaVuSans-98\"/>\n      <use x=\"131.884766\" xlink:href=\"#DejaVuSans-115\"/>\n      <use x=\"183.984375\" xlink:href=\"#DejaVuSans-111\"/>\n      <use x=\"245.166016\" xlink:href=\"#DejaVuSans-108\"/>\n      <use x=\"272.949219\" xlink:href=\"#DejaVuSans-117\"/>\n      <use x=\"336.328125\" xlink:href=\"#DejaVuSans-116\"/>\n      <use x=\"375.537109\" xlink:href=\"#DejaVuSans-101\"/>\n      <use x=\"437.060547\" xlink:href=\"#DejaVuSans-32\"/>\n      <use x=\"468.847656\" xlink:href=\"#DejaVuSans-67\"/>\n      <use x=\"538.671875\" xlink:href=\"#DejaVuSans-111\"/>\n      <use x=\"599.853516\" xlink:href=\"#DejaVuSans-114\"/>\n      <use x=\"639.216797\" xlink:href=\"#DejaVuSans-114\"/>\n      <use x=\"678.080078\" xlink:href=\"#DejaVuSans-101\"/>\n      <use x=\"739.603516\" xlink:href=\"#DejaVuSans-108\"/>\n      <use x=\"767.386719\" xlink:href=\"#DejaVuSans-97\"/>\n      <use x=\"828.666016\" xlink:href=\"#DejaVuSans-116\"/>\n      <use x=\"867.875\" xlink:href=\"#DejaVuSans-105\"/>\n      <use x=\"895.658203\" xlink:href=\"#DejaVuSans-111\"/>\n      <use x=\"956.839844\" xlink:href=\"#DejaVuSans-110\"/>\n     </g>\n    </g>\n   </g>\n   <g id=\"matplotlib.axis_2\">\n    <g id=\"ytick_1\">\n     <g id=\"line2d_7\">\n      <path clip-path=\"url(#peff636dda5)\" d=\"M 93.61125 230.813079 \nL 428.41125 230.813079 \n\" style=\"fill:none;stroke:#cccccc;stroke-linecap:round;stroke-width:1.5;\"/>\n     </g>\n     <g id=\"text_8\">\n      <!-- 0 -->\n      <g style=\"fill:#262626;\" transform=\"translate(70.613125 237.08179)scale(0.165 -0.165)\">\n       <use xlink:href=\"#DejaVuSans-48\"/>\n      </g>\n     </g>\n    </g>\n    <g id=\"ytick_2\">\n     <g id=\"line2d_8\">\n      <path clip-path=\"url(#peff636dda5)\" d=\"M 93.61125 187.344206 \nL 428.41125 187.344206 \n\" style=\"fill:none;stroke:#cccccc;stroke-linecap:round;stroke-width:1.5;\"/>\n     </g>\n     <g id=\"text_9\">\n      <!-- 2000 -->\n      <g style=\"fill:#262626;\" transform=\"translate(39.11875 193.612917)scale(0.165 -0.165)\">\n       <use xlink:href=\"#DejaVuSans-50\"/>\n       <use x=\"63.623047\" xlink:href=\"#DejaVuSans-48\"/>\n       <use x=\"127.246094\" xlink:href=\"#DejaVuSans-48\"/>\n       <use x=\"190.869141\" xlink:href=\"#DejaVuSans-48\"/>\n      </g>\n     </g>\n    </g>\n    <g id=\"ytick_3\">\n     <g id=\"line2d_9\">\n      <path clip-path=\"url(#peff636dda5)\" d=\"M 93.61125 143.875332 \nL 428.41125 143.875332 \n\" style=\"fill:none;stroke:#cccccc;stroke-linecap:round;stroke-width:1.5;\"/>\n     </g>\n     <g id=\"text_10\">\n      <!-- 4000 -->\n      <g style=\"fill:#262626;\" transform=\"translate(39.11875 150.144043)scale(0.165 -0.165)\">\n       <use xlink:href=\"#DejaVuSans-52\"/>\n       <use x=\"63.623047\" xlink:href=\"#DejaVuSans-48\"/>\n       <use x=\"127.246094\" xlink:href=\"#DejaVuSans-48\"/>\n       <use x=\"190.869141\" xlink:href=\"#DejaVuSans-48\"/>\n      </g>\n     </g>\n    </g>\n    <g id=\"ytick_4\">\n     <g id=\"line2d_10\">\n      <path clip-path=\"url(#peff636dda5)\" d=\"M 93.61125 100.406458 \nL 428.41125 100.406458 \n\" style=\"fill:none;stroke:#cccccc;stroke-linecap:round;stroke-width:1.5;\"/>\n     </g>\n     <g id=\"text_11\">\n      <!-- 6000 -->\n      <g style=\"fill:#262626;\" transform=\"translate(39.11875 106.675169)scale(0.165 -0.165)\">\n       <use xlink:href=\"#DejaVuSans-54\"/>\n       <use x=\"63.623047\" xlink:href=\"#DejaVuSans-48\"/>\n       <use x=\"127.246094\" xlink:href=\"#DejaVuSans-48\"/>\n       <use x=\"190.869141\" xlink:href=\"#DejaVuSans-48\"/>\n      </g>\n     </g>\n    </g>\n    <g id=\"ytick_5\">\n     <g id=\"line2d_11\">\n      <path clip-path=\"url(#peff636dda5)\" d=\"M 93.61125 56.937585 \nL 428.41125 56.937585 \n\" style=\"fill:none;stroke:#cccccc;stroke-linecap:round;stroke-width:1.5;\"/>\n     </g>\n     <g id=\"text_12\">\n      <!-- 8000 -->\n      <g style=\"fill:#262626;\" transform=\"translate(39.11875 63.206296)scale(0.165 -0.165)\">\n       <use xlink:href=\"#DejaVuSans-56\"/>\n       <use x=\"63.623047\" xlink:href=\"#DejaVuSans-48\"/>\n       <use x=\"127.246094\" xlink:href=\"#DejaVuSans-48\"/>\n       <use x=\"190.869141\" xlink:href=\"#DejaVuSans-48\"/>\n      </g>\n     </g>\n    </g>\n    <g id=\"ytick_6\">\n     <g id=\"line2d_12\">\n      <path clip-path=\"url(#peff636dda5)\" d=\"M 93.61125 13.468711 \nL 428.41125 13.468711 \n\" style=\"fill:none;stroke:#cccccc;stroke-linecap:round;stroke-width:1.5;\"/>\n     </g>\n     <g id=\"text_13\">\n      <!-- 10000 -->\n      <g style=\"fill:#262626;\" transform=\"translate(28.620625 19.737422)scale(0.165 -0.165)\">\n       <use xlink:href=\"#DejaVuSans-49\"/>\n       <use x=\"63.623047\" xlink:href=\"#DejaVuSans-48\"/>\n       <use x=\"127.246094\" xlink:href=\"#DejaVuSans-48\"/>\n       <use x=\"190.869141\" xlink:href=\"#DejaVuSans-48\"/>\n       <use x=\"254.492188\" xlink:href=\"#DejaVuSans-48\"/>\n      </g>\n     </g>\n    </g>\n    <g id=\"text_14\">\n     <!-- Frequency -->\n     <g style=\"fill:#262626;\" transform=\"translate(20.877187 168.586517)rotate(-90)scale(0.18 -0.18)\">\n      <defs>\n       <path d=\"M 9.8125 72.90625 \nL 51.703125 72.90625 \nL 51.703125 64.59375 \nL 19.671875 64.59375 \nL 19.671875 43.109375 \nL 48.578125 43.109375 \nL 48.578125 34.8125 \nL 19.671875 34.8125 \nL 19.671875 0 \nL 9.8125 0 \nz\n\" id=\"DejaVuSans-70\"/>\n       <path d=\"M 14.796875 27.296875 \nQ 14.796875 17.390625 18.875 11.75 \nQ 22.953125 6.109375 30.078125 6.109375 \nQ 37.203125 6.109375 41.296875 11.75 \nQ 45.40625 17.390625 45.40625 27.296875 \nQ 45.40625 37.203125 41.296875 42.84375 \nQ 37.203125 48.484375 30.078125 48.484375 \nQ 22.953125 48.484375 18.875 42.84375 \nQ 14.796875 37.203125 14.796875 27.296875 \nz\nM 45.40625 8.203125 \nQ 42.578125 3.328125 38.25 0.953125 \nQ 33.9375 -1.421875 27.875 -1.421875 \nQ 17.96875 -1.421875 11.734375 6.484375 \nQ 5.515625 14.40625 5.515625 27.296875 \nQ 5.515625 40.1875 11.734375 48.09375 \nQ 17.96875 56 27.875 56 \nQ 33.9375 56 38.25 53.625 \nQ 42.578125 51.265625 45.40625 46.390625 \nL 45.40625 54.6875 \nL 54.390625 54.6875 \nL 54.390625 -20.796875 \nL 45.40625 -20.796875 \nz\n\" id=\"DejaVuSans-113\"/>\n       <path d=\"M 48.78125 52.59375 \nL 48.78125 44.1875 \nQ 44.96875 46.296875 41.140625 47.34375 \nQ 37.3125 48.390625 33.40625 48.390625 \nQ 24.65625 48.390625 19.8125 42.84375 \nQ 14.984375 37.3125 14.984375 27.296875 \nQ 14.984375 17.28125 19.8125 11.734375 \nQ 24.65625 6.203125 33.40625 6.203125 \nQ 37.3125 6.203125 41.140625 7.25 \nQ 44.96875 8.296875 48.78125 10.40625 \nL 48.78125 2.09375 \nQ 45.015625 0.34375 40.984375 -0.53125 \nQ 36.96875 -1.421875 32.421875 -1.421875 \nQ 20.0625 -1.421875 12.78125 6.34375 \nQ 5.515625 14.109375 5.515625 27.296875 \nQ 5.515625 40.671875 12.859375 48.328125 \nQ 20.21875 56 33.015625 56 \nQ 37.15625 56 41.109375 55.140625 \nQ 45.0625 54.296875 48.78125 52.59375 \nz\n\" id=\"DejaVuSans-99\"/>\n       <path d=\"M 32.171875 -5.078125 \nQ 28.375 -14.84375 24.75 -17.8125 \nQ 21.140625 -20.796875 15.09375 -20.796875 \nL 7.90625 -20.796875 \nL 7.90625 -13.28125 \nL 13.1875 -13.28125 \nQ 16.890625 -13.28125 18.9375 -11.515625 \nQ 21 -9.765625 23.484375 -3.21875 \nL 25.09375 0.875 \nL 2.984375 54.6875 \nL 12.5 54.6875 \nL 29.59375 11.921875 \nL 46.6875 54.6875 \nL 56.203125 54.6875 \nz\n\" id=\"DejaVuSans-121\"/>\n      </defs>\n      <use xlink:href=\"#DejaVuSans-70\"/>\n      <use x=\"50.269531\" xlink:href=\"#DejaVuSans-114\"/>\n      <use x=\"89.132812\" xlink:href=\"#DejaVuSans-101\"/>\n      <use x=\"150.65625\" xlink:href=\"#DejaVuSans-113\"/>\n      <use x=\"214.132812\" xlink:href=\"#DejaVuSans-117\"/>\n      <use x=\"277.511719\" xlink:href=\"#DejaVuSans-101\"/>\n      <use x=\"339.035156\" xlink:href=\"#DejaVuSans-110\"/>\n      <use x=\"402.414062\" xlink:href=\"#DejaVuSans-99\"/>\n      <use x=\"457.394531\" xlink:href=\"#DejaVuSans-121\"/>\n     </g>\n    </g>\n   </g>\n   <g id=\"patch_3\">\n    <path clip-path=\"url(#peff636dda5)\" d=\"M 108.829432 230.813079 \nL 114.916705 230.813079 \nL 114.916705 23.727365 \nL 108.829432 23.727365 \nz\n\" style=\"fill:#001c7f;stroke:#ffffff;stroke-linejoin:miter;stroke-width:1.5;\"/>\n   </g>\n   <g id=\"patch_4\">\n    <path clip-path=\"url(#peff636dda5)\" d=\"M 114.916705 230.813079 \nL 121.003977 230.813079 \nL 121.003977 80.519449 \nL 114.916705 80.519449 \nz\n\" style=\"fill:#001c7f;stroke:#ffffff;stroke-linejoin:miter;stroke-width:1.5;\"/>\n   </g>\n   <g id=\"patch_5\">\n    <path clip-path=\"url(#peff636dda5)\" d=\"M 121.003977 230.813079 \nL 127.09125 230.813079 \nL 127.09125 120.358671 \nL 121.003977 120.358671 \nz\n\" style=\"fill:#001c7f;stroke:#ffffff;stroke-linejoin:miter;stroke-width:1.5;\"/>\n   </g>\n   <g id=\"patch_6\">\n    <path clip-path=\"url(#peff636dda5)\" d=\"M 127.09125 230.813079 \nL 133.178523 230.813079 \nL 133.178523 134.029632 \nL 127.09125 134.029632 \nz\n\" style=\"fill:#001c7f;stroke:#ffffff;stroke-linejoin:miter;stroke-width:1.5;\"/>\n   </g>\n   <g id=\"patch_7\">\n    <path clip-path=\"url(#peff636dda5)\" d=\"M 133.178523 230.813079 \nL 139.265795 230.813079 \nL 139.265795 138.37652 \nL 133.178523 138.37652 \nz\n\" style=\"fill:#001c7f;stroke:#ffffff;stroke-linejoin:miter;stroke-width:1.5;\"/>\n   </g>\n   <g id=\"patch_8\">\n    <path clip-path=\"url(#peff636dda5)\" d=\"M 139.265795 230.813079 \nL 145.353068 230.813079 \nL 145.353068 135.963997 \nL 139.265795 135.963997 \nz\n\" style=\"fill:#001c7f;stroke:#ffffff;stroke-linejoin:miter;stroke-width:1.5;\"/>\n   </g>\n   <g id=\"patch_9\">\n    <path clip-path=\"url(#peff636dda5)\" d=\"M 145.353068 230.813079 \nL 151.440341 230.813079 \nL 151.440341 137.050719 \nL 145.353068 137.050719 \nz\n\" style=\"fill:#001c7f;stroke:#ffffff;stroke-linejoin:miter;stroke-width:1.5;\"/>\n   </g>\n   <g id=\"patch_10\">\n    <path clip-path=\"url(#peff636dda5)\" d=\"M 151.440341 230.813079 \nL 157.527614 230.813079 \nL 157.527614 138.91988 \nL 151.440341 138.91988 \nz\n\" style=\"fill:#001c7f;stroke:#ffffff;stroke-linejoin:miter;stroke-width:1.5;\"/>\n   </g>\n   <g id=\"patch_11\">\n    <path clip-path=\"url(#peff636dda5)\" d=\"M 157.527614 230.813079 \nL 163.614886 230.813079 \nL 163.614886 139.963133 \nL 157.527614 139.963133 \nz\n\" style=\"fill:#001c7f;stroke:#ffffff;stroke-linejoin:miter;stroke-width:1.5;\"/>\n   </g>\n   <g id=\"patch_12\">\n    <path clip-path=\"url(#peff636dda5)\" d=\"M 163.614886 230.813079 \nL 169.702159 230.813079 \nL 169.702159 144.766444 \nL 163.614886 144.766444 \nz\n\" style=\"fill:#001c7f;stroke:#ffffff;stroke-linejoin:miter;stroke-width:1.5;\"/>\n   </g>\n   <g id=\"patch_13\">\n    <path clip-path=\"url(#peff636dda5)\" d=\"M 169.702159 230.813079 \nL 175.789432 230.813079 \nL 175.789432 152.395231 \nL 169.702159 152.395231 \nz\n\" style=\"fill:#001c7f;stroke:#ffffff;stroke-linejoin:miter;stroke-width:1.5;\"/>\n   </g>\n   <g id=\"patch_14\">\n    <path clip-path=\"url(#peff636dda5)\" d=\"M 175.789432 230.813079 \nL 181.876705 230.813079 \nL 181.876705 157.220276 \nL 175.789432 157.220276 \nz\n\" style=\"fill:#001c7f;stroke:#ffffff;stroke-linejoin:miter;stroke-width:1.5;\"/>\n   </g>\n   <g id=\"patch_15\">\n    <path clip-path=\"url(#peff636dda5)\" d=\"M 181.876705 230.813079 \nL 187.963977 230.813079 \nL 187.963977 158.41567 \nL 181.876705 158.41567 \nz\n\" style=\"fill:#001c7f;stroke:#ffffff;stroke-linejoin:miter;stroke-width:1.5;\"/>\n   </g>\n   <g id=\"patch_16\">\n    <path clip-path=\"url(#peff636dda5)\" d=\"M 187.963977 230.813079 \nL 194.05125 230.813079 \nL 194.05125 164.305703 \nL 187.963977 164.305703 \nz\n\" style=\"fill:#001c7f;stroke:#ffffff;stroke-linejoin:miter;stroke-width:1.5;\"/>\n   </g>\n   <g id=\"patch_17\">\n    <path clip-path=\"url(#peff636dda5)\" d=\"M 194.05125 230.813079 \nL 200.138523 230.813079 \nL 200.138523 170.043594 \nL 194.05125 170.043594 \nz\n\" style=\"fill:#001c7f;stroke:#ffffff;stroke-linejoin:miter;stroke-width:1.5;\"/>\n   </g>\n   <g id=\"patch_18\">\n    <path clip-path=\"url(#peff636dda5)\" d=\"M 200.138523 230.813079 \nL 206.225795 230.813079 \nL 206.225795 171.34766 \nL 200.138523 171.34766 \nz\n\" style=\"fill:#001c7f;stroke:#ffffff;stroke-linejoin:miter;stroke-width:1.5;\"/>\n   </g>\n   <g id=\"patch_19\">\n    <path clip-path=\"url(#peff636dda5)\" d=\"M 206.225795 230.813079 \nL 212.313068 230.813079 \nL 212.313068 168.283105 \nL 206.225795 168.283105 \nz\n\" style=\"fill:#001c7f;stroke:#ffffff;stroke-linejoin:miter;stroke-width:1.5;\"/>\n   </g>\n   <g id=\"patch_20\">\n    <path clip-path=\"url(#peff636dda5)\" d=\"M 212.313068 230.813079 \nL 218.400341 230.813079 \nL 218.400341 169.978391 \nL 212.313068 169.978391 \nz\n\" style=\"fill:#001c7f;stroke:#ffffff;stroke-linejoin:miter;stroke-width:1.5;\"/>\n   </g>\n   <g id=\"patch_21\">\n    <path clip-path=\"url(#peff636dda5)\" d=\"M 218.400341 230.813079 \nL 224.487614 230.813079 \nL 224.487614 170.02186 \nL 218.400341 170.02186 \nz\n\" style=\"fill:#001c7f;stroke:#ffffff;stroke-linejoin:miter;stroke-width:1.5;\"/>\n   </g>\n   <g id=\"patch_22\">\n    <path clip-path=\"url(#peff636dda5)\" d=\"M 224.487614 230.813079 \nL 230.574886 230.813079 \nL 230.574886 172.890805 \nL 224.487614 172.890805 \nz\n\" style=\"fill:#001c7f;stroke:#ffffff;stroke-linejoin:miter;stroke-width:1.5;\"/>\n   </g>\n   <g id=\"patch_23\">\n    <path clip-path=\"url(#peff636dda5)\" d=\"M 230.574886 230.813079 \nL 236.662159 230.813079 \nL 236.662159 183.388538 \nL 230.574886 183.388538 \nz\n\" style=\"fill:#001c7f;stroke:#ffffff;stroke-linejoin:miter;stroke-width:1.5;\"/>\n   </g>\n   <g id=\"patch_24\">\n    <path clip-path=\"url(#peff636dda5)\" d=\"M 236.662159 230.813079 \nL 242.749432 230.813079 \nL 242.749432 186.822579 \nL 236.662159 186.822579 \nz\n\" style=\"fill:#001c7f;stroke:#ffffff;stroke-linejoin:miter;stroke-width:1.5;\"/>\n   </g>\n   <g id=\"patch_25\">\n    <path clip-path=\"url(#peff636dda5)\" d=\"M 242.749432 230.813079 \nL 248.836705 230.813079 \nL 248.836705 183.975368 \nL 242.749432 183.975368 \nz\n\" style=\"fill:#001c7f;stroke:#ffffff;stroke-linejoin:miter;stroke-width:1.5;\"/>\n   </g>\n   <g id=\"patch_26\">\n    <path clip-path=\"url(#peff636dda5)\" d=\"M 248.836705 230.813079 \nL 254.923977 230.813079 \nL 254.923977 182.149675 \nL 248.836705 182.149675 \nz\n\" style=\"fill:#001c7f;stroke:#ffffff;stroke-linejoin:miter;stroke-width:1.5;\"/>\n   </g>\n   <g id=\"patch_27\">\n    <path clip-path=\"url(#peff636dda5)\" d=\"M 254.923977 230.813079 \nL 261.01125 230.813079 \nL 261.01125 181.475908 \nL 254.923977 181.475908 \nz\n\" style=\"fill:#001c7f;stroke:#ffffff;stroke-linejoin:miter;stroke-width:1.5;\"/>\n   </g>\n   <g id=\"patch_28\">\n    <path clip-path=\"url(#peff636dda5)\" d=\"M 261.01125 230.813079 \nL 267.098523 230.813079 \nL 267.098523 177.32463 \nL 261.01125 177.32463 \nz\n\" style=\"fill:#001c7f;stroke:#ffffff;stroke-linejoin:miter;stroke-width:1.5;\"/>\n   </g>\n   <g id=\"patch_29\">\n    <path clip-path=\"url(#peff636dda5)\" d=\"M 267.098523 230.813079 \nL 273.185795 230.813079 \nL 273.185795 176.216174 \nL 267.098523 176.216174 \nz\n\" style=\"fill:#001c7f;stroke:#ffffff;stroke-linejoin:miter;stroke-width:1.5;\"/>\n   </g>\n   <g id=\"patch_30\">\n    <path clip-path=\"url(#peff636dda5)\" d=\"M 273.185795 230.813079 \nL 279.273068 230.813079 \nL 279.273068 175.498938 \nL 273.185795 175.498938 \nz\n\" style=\"fill:#001c7f;stroke:#ffffff;stroke-linejoin:miter;stroke-width:1.5;\"/>\n   </g>\n   <g id=\"patch_31\">\n    <path clip-path=\"url(#peff636dda5)\" d=\"M 279.273068 230.813079 \nL 285.360341 230.813079 \nL 285.360341 171.195519 \nL 279.273068 171.195519 \nz\n\" style=\"fill:#001c7f;stroke:#ffffff;stroke-linejoin:miter;stroke-width:1.5;\"/>\n   </g>\n   <g id=\"patch_32\">\n    <path clip-path=\"url(#peff636dda5)\" d=\"M 285.360341 230.813079 \nL 291.447614 230.813079 \nL 291.447614 168.609121 \nL 285.360341 168.609121 \nz\n\" style=\"fill:#001c7f;stroke:#ffffff;stroke-linejoin:miter;stroke-width:1.5;\"/>\n   </g>\n   <g id=\"patch_33\">\n    <path clip-path=\"url(#peff636dda5)\" d=\"M 291.447614 230.813079 \nL 297.534886 230.813079 \nL 297.534886 165.392425 \nL 291.447614 165.392425 \nz\n\" style=\"fill:#001c7f;stroke:#ffffff;stroke-linejoin:miter;stroke-width:1.5;\"/>\n   </g>\n   <g id=\"patch_34\">\n    <path clip-path=\"url(#peff636dda5)\" d=\"M 297.534886 230.813079 \nL 303.622159 230.813079 \nL 303.622159 161.480226 \nL 297.534886 161.480226 \nz\n\" style=\"fill:#001c7f;stroke:#ffffff;stroke-linejoin:miter;stroke-width:1.5;\"/>\n   </g>\n   <g id=\"patch_35\">\n    <path clip-path=\"url(#peff636dda5)\" d=\"M 303.622159 230.813079 \nL 309.709432 230.813079 \nL 309.709432 160.719521 \nL 303.622159 160.719521 \nz\n\" style=\"fill:#001c7f;stroke:#ffffff;stroke-linejoin:miter;stroke-width:1.5;\"/>\n   </g>\n   <g id=\"patch_36\">\n    <path clip-path=\"url(#peff636dda5)\" d=\"M 309.709432 230.813079 \nL 315.796705 230.813079 \nL 315.796705 165.305487 \nL 309.709432 165.305487 \nz\n\" style=\"fill:#001c7f;stroke:#ffffff;stroke-linejoin:miter;stroke-width:1.5;\"/>\n   </g>\n   <g id=\"patch_37\">\n    <path clip-path=\"url(#peff636dda5)\" d=\"M 315.796705 230.813079 \nL 321.883977 230.813079 \nL 321.883977 164.131827 \nL 315.796705 164.131827 \nz\n\" style=\"fill:#001c7f;stroke:#ffffff;stroke-linejoin:miter;stroke-width:1.5;\"/>\n   </g>\n   <g id=\"patch_38\">\n    <path clip-path=\"url(#peff636dda5)\" d=\"M 321.883977 230.813079 \nL 327.97125 230.813079 \nL 327.97125 170.108797 \nL 321.883977 170.108797 \nz\n\" style=\"fill:#001c7f;stroke:#ffffff;stroke-linejoin:miter;stroke-width:1.5;\"/>\n   </g>\n   <g id=\"patch_39\">\n    <path clip-path=\"url(#peff636dda5)\" d=\"M 327.97125 230.813079 \nL 334.058523 230.813079 \nL 334.058523 167.696275 \nL 327.97125 167.696275 \nz\n\" style=\"fill:#001c7f;stroke:#ffffff;stroke-linejoin:miter;stroke-width:1.5;\"/>\n   </g>\n   <g id=\"patch_40\">\n    <path clip-path=\"url(#peff636dda5)\" d=\"M 334.058523 230.813079 \nL 340.145795 230.813079 \nL 340.145795 173.499369 \nL 334.058523 173.499369 \nz\n\" style=\"fill:#001c7f;stroke:#ffffff;stroke-linejoin:miter;stroke-width:1.5;\"/>\n   </g>\n   <g id=\"patch_41\">\n    <path clip-path=\"url(#peff636dda5)\" d=\"M 340.145795 230.813079 \nL 346.233068 230.813079 \nL 346.233068 174.781701 \nL 340.145795 174.781701 \nz\n\" style=\"fill:#001c7f;stroke:#ffffff;stroke-linejoin:miter;stroke-width:1.5;\"/>\n   </g>\n   <g id=\"patch_42\">\n    <path clip-path=\"url(#peff636dda5)\" d=\"M 346.233068 230.813079 \nL 352.320341 230.813079 \nL 352.320341 175.99883 \nL 346.233068 175.99883 \nz\n\" style=\"fill:#001c7f;stroke:#ffffff;stroke-linejoin:miter;stroke-width:1.5;\"/>\n   </g>\n   <g id=\"patch_43\">\n    <path clip-path=\"url(#peff636dda5)\" d=\"M 352.320341 230.813079 \nL 358.407614 230.813079 \nL 358.407614 173.586307 \nL 352.320341 173.586307 \nz\n\" style=\"fill:#001c7f;stroke:#ffffff;stroke-linejoin:miter;stroke-width:1.5;\"/>\n   </g>\n   <g id=\"patch_44\">\n    <path clip-path=\"url(#peff636dda5)\" d=\"M 358.407614 230.813079 \nL 364.494886 230.813079 \nL 364.494886 172.52132 \nL 358.407614 172.52132 \nz\n\" style=\"fill:#001c7f;stroke:#ffffff;stroke-linejoin:miter;stroke-width:1.5;\"/>\n   </g>\n   <g id=\"patch_45\">\n    <path clip-path=\"url(#peff636dda5)\" d=\"M 364.494886 230.813079 \nL 370.582159 230.813079 \nL 370.582159 166.73996 \nL 364.494886 166.73996 \nz\n\" style=\"fill:#001c7f;stroke:#ffffff;stroke-linejoin:miter;stroke-width:1.5;\"/>\n   </g>\n   <g id=\"patch_46\">\n    <path clip-path=\"url(#peff636dda5)\" d=\"M 370.582159 230.813079 \nL 376.669432 230.813079 \nL 376.669432 159.219844 \nL 370.582159 159.219844 \nz\n\" style=\"fill:#001c7f;stroke:#ffffff;stroke-linejoin:miter;stroke-width:1.5;\"/>\n   </g>\n   <g id=\"patch_47\">\n    <path clip-path=\"url(#peff636dda5)\" d=\"M 376.669432 230.813079 \nL 382.756705 230.813079 \nL 382.756705 162.023587 \nL 376.669432 162.023587 \nz\n\" style=\"fill:#001c7f;stroke:#ffffff;stroke-linejoin:miter;stroke-width:1.5;\"/>\n   </g>\n   <g id=\"patch_48\">\n    <path clip-path=\"url(#peff636dda5)\" d=\"M 382.756705 230.813079 \nL 388.843977 230.813079 \nL 388.843977 169.674109 \nL 382.756705 169.674109 \nz\n\" style=\"fill:#001c7f;stroke:#ffffff;stroke-linejoin:miter;stroke-width:1.5;\"/>\n   </g>\n   <g id=\"patch_49\">\n    <path clip-path=\"url(#peff636dda5)\" d=\"M 388.843977 230.813079 \nL 394.93125 230.813079 \nL 394.93125 182.56263 \nL 388.843977 182.56263 \nz\n\" style=\"fill:#001c7f;stroke:#ffffff;stroke-linejoin:miter;stroke-width:1.5;\"/>\n   </g>\n   <g id=\"patch_50\">\n    <path clip-path=\"url(#peff636dda5)\" d=\"M 394.93125 230.813079 \nL 401.018523 230.813079 \nL 401.018523 197.168171 \nL 394.93125 197.168171 \nz\n\" style=\"fill:#001c7f;stroke:#ffffff;stroke-linejoin:miter;stroke-width:1.5;\"/>\n   </g>\n   <g id=\"patch_51\">\n    <path clip-path=\"url(#peff636dda5)\" d=\"M 401.018523 230.813079 \nL 407.105795 230.813079 \nL 407.105795 208.665688 \nL 401.018523 208.665688 \nz\n\" style=\"fill:#001c7f;stroke:#ffffff;stroke-linejoin:miter;stroke-width:1.5;\"/>\n   </g>\n   <g id=\"patch_52\">\n    <path clip-path=\"url(#peff636dda5)\" d=\"M 407.105795 230.813079 \nL 413.193068 230.813079 \nL 413.193068 220.098002 \nL 407.105795 220.098002 \nz\n\" style=\"fill:#001c7f;stroke:#ffffff;stroke-linejoin:miter;stroke-width:1.5;\"/>\n   </g>\n   <g id=\"patch_53\">\n    <path d=\"M 93.61125 230.813079 \nL 93.61125 13.373079 \n\" style=\"fill:none;stroke:#262626;stroke-linecap:square;stroke-linejoin:miter;stroke-width:1.875;\"/>\n   </g>\n   <g id=\"patch_54\">\n    <path d=\"M 428.41125 230.813079 \nL 428.41125 13.373079 \n\" style=\"fill:none;stroke:#262626;stroke-linecap:square;stroke-linejoin:miter;stroke-width:1.875;\"/>\n   </g>\n   <g id=\"patch_55\">\n    <path d=\"M 93.61125 230.813079 \nL 428.41125 230.813079 \n\" style=\"fill:none;stroke:#262626;stroke-linecap:square;stroke-linejoin:miter;stroke-width:1.875;\"/>\n   </g>\n   <g id=\"patch_56\">\n    <path d=\"M 93.61125 13.373079 \nL 428.41125 13.373079 \n\" style=\"fill:none;stroke:#262626;stroke-linecap:square;stroke-linejoin:miter;stroke-width:1.875;\"/>\n   </g>\n  </g>\n </g>\n <defs>\n  <clipPath id=\"peff636dda5\">\n   <rect height=\"217.44\" width=\"334.8\" x=\"93.61125\" y=\"13.373079\"/>\n  </clipPath>\n </defs>\n</svg>\n",
      "image/png": "[encoded data removed]"
     },
     "metadata": {}
    }
   ],
   "source": [
    "sns.set_context('talk')\n",
    "sns.set_style('white')\n",
    "sns.set_palette('dark')\n",
    "\n",
    "ax = corr_values.abs_correlation.hist(bins=50)\n",
    "\n",
    "ax.set(xlabel='Absolute Correlation', ylabel='Frequency')"
   ]
  },
  {
   "cell_type": "code",
   "execution_count": 74,
   "metadata": {},
   "outputs": [
    {
     "output_type": "execute_result",
     "data": {
      "text/plain": [
       "                           feature1                    feature2  correlation  \\\n",
       "156894  fBodyBodyGyroJerkMag-mean()  fBodyBodyGyroJerkMag-sma()     1.000000   \n",
       "93902             tBodyAccMag-sma()        tGravityAccMag-sma()     1.000000   \n",
       "101139       tBodyAccJerkMag-mean()       tBodyAccJerkMag-sma()     1.000000   \n",
       "96706         tGravityAccMag-mean()        tGravityAccMag-sma()     1.000000   \n",
       "94257          tBodyAccMag-energy()     tGravityAccMag-energy()     1.000000   \n",
       "...                             ...                         ...          ...   \n",
       "22657          tGravityAcc-mean()-Y        angle(Y,gravityMean)    -0.993425   \n",
       "39225     tGravityAcc-arCoeff()-Z,3   tGravityAcc-arCoeff()-Z,4    -0.994267   \n",
       "38739     tGravityAcc-arCoeff()-Z,2   tGravityAcc-arCoeff()-Z,3    -0.994628   \n",
       "23176          tGravityAcc-mean()-Z        angle(Z,gravityMean)    -0.994764   \n",
       "38252     tGravityAcc-arCoeff()-Z,1   tGravityAcc-arCoeff()-Z,2    -0.995195   \n",
       "\n",
       "        abs_correlation  \n",
       "156894         1.000000  \n",
       "93902          1.000000  \n",
       "101139         1.000000  \n",
       "96706          1.000000  \n",
       "94257          1.000000  \n",
       "...                 ...  \n",
       "22657          0.993425  \n",
       "39225          0.994267  \n",
       "38739          0.994628  \n",
       "23176          0.994764  \n",
       "38252          0.995195  \n",
       "\n",
       "[22815 rows x 4 columns]"
      ],
      "text/html": "<div>\n<style scoped>\n    .dataframe tbody tr th:only-of-type {\n        vertical-align: middle;\n    }\n\n    .dataframe tbody tr th {\n        vertical-align: top;\n    }\n\n    .dataframe thead th {\n        text-align: right;\n    }\n</style>\n<table border=\"1\" class=\"dataframe\">\n  <thead>\n    <tr style=\"text-align: right;\">\n      <th></th>\n      <th>feature1</th>\n      <th>feature2</th>\n      <th>correlation</th>\n      <th>abs_correlation</th>\n    </tr>\n  </thead>\n  <tbody>\n    <tr>\n      <th>156894</th>\n      <td>fBodyBodyGyroJerkMag-mean()</td>\n      <td>fBodyBodyGyroJerkMag-sma()</td>\n      <td>1.000000</td>\n      <td>1.000000</td>\n    </tr>\n    <tr>\n      <th>93902</th>\n      <td>tBodyAccMag-sma()</td>\n      <td>tGravityAccMag-sma()</td>\n      <td>1.000000</td>\n      <td>1.000000</td>\n    </tr>\n    <tr>\n      <th>101139</th>\n      <td>tBodyAccJerkMag-mean()</td>\n      <td>tBodyAccJerkMag-sma()</td>\n      <td>1.000000</td>\n      <td>1.000000</td>\n    </tr>\n    <tr>\n      <th>96706</th>\n      <td>tGravityAccMag-mean()</td>\n      <td>tGravityAccMag-sma()</td>\n      <td>1.000000</td>\n      <td>1.000000</td>\n    </tr>\n    <tr>\n      <th>94257</th>\n      <td>tBodyAccMag-energy()</td>\n      <td>tGravityAccMag-energy()</td>\n      <td>1.000000</td>\n      <td>1.000000</td>\n    </tr>\n    <tr>\n      <th>...</th>\n      <td>...</td>\n      <td>...</td>\n      <td>...</td>\n      <td>...</td>\n    </tr>\n    <tr>\n      <th>22657</th>\n      <td>tGravityAcc-mean()-Y</td>\n      <td>angle(Y,gravityMean)</td>\n      <td>-0.993425</td>\n      <td>0.993425</td>\n    </tr>\n    <tr>\n      <th>39225</th>\n      <td>tGravityAcc-arCoeff()-Z,3</td>\n      <td>tGravityAcc-arCoeff()-Z,4</td>\n      <td>-0.994267</td>\n      <td>0.994267</td>\n    </tr>\n    <tr>\n      <th>38739</th>\n      <td>tGravityAcc-arCoeff()-Z,2</td>\n      <td>tGravityAcc-arCoeff()-Z,3</td>\n      <td>-0.994628</td>\n      <td>0.994628</td>\n    </tr>\n    <tr>\n      <th>23176</th>\n      <td>tGravityAcc-mean()-Z</td>\n      <td>angle(Z,gravityMean)</td>\n      <td>-0.994764</td>\n      <td>0.994764</td>\n    </tr>\n    <tr>\n      <th>38252</th>\n      <td>tGravityAcc-arCoeff()-Z,1</td>\n      <td>tGravityAcc-arCoeff()-Z,2</td>\n      <td>-0.995195</td>\n      <td>0.995195</td>\n    </tr>\n  </tbody>\n</table>\n<p>22815 rows × 4 columns</p>\n</div>"
     },
     "metadata": {},
     "execution_count": 74
    }
   ],
   "source": [
    "# The most highly correlated values\n",
    "corr_values.sort_values('correlation', ascending=False).query('abs_correlation>0.8')"
   ]
  },
  {
   "cell_type": "markdown",
   "metadata": {},
   "source": [
    "## Question 3\n",
    "\n",
    "* Split the data into train and test data sets. This can be done using any method, but consider using Scikit-learn's `StratifiedShuffleSplit` to maintain the same ratio of predictor classes.\n",
    "* Regardless of methods used to split the data, compare the ratio of classes in both the train and test splits.\n"
   ]
  },
  {
   "cell_type": "code",
   "execution_count": 75,
   "metadata": {
    "collapsed": true
   },
   "outputs": [],
   "source": [
    "from sklearn.model_selection import StratifiedShuffleSplit\n",
    "\n",
    "# Get the split indexes\n",
    "strat_shuf_split = StratifiedShuffleSplit(n_splits=1,test_size=0.3, random_state=42)\n",
    "\n",
    "train_idx, test_idx = next(strat_shuf_split.split(data[feature_cols], data.Activity))\n",
    "\n",
    "# Create the dataframes\n",
    "X_train = data.loc[train_idx, feature_cols]\n",
    "y_train = data.loc[train_idx, 'Activity']\n",
    "\n",
    "X_test  = data.loc[test_idx, feature_cols]\n",
    "y_test  = data.loc[test_idx, 'Activity']"
   ]
  },
  {
   "cell_type": "code",
   "execution_count": 76,
   "metadata": {},
   "outputs": [
    {
     "output_type": "execute_result",
     "data": {
      "text/plain": [
       "0    0.188792\n",
       "2    0.185046\n",
       "1    0.172562\n",
       "3    0.167152\n",
       "5    0.149951\n",
       "4    0.136496\n",
       "Name: Activity, dtype: float64"
      ]
     },
     "metadata": {},
     "execution_count": 76
    }
   ],
   "source": [
    "y_train.value_counts(normalize=True)"
   ]
  },
  {
   "cell_type": "code",
   "execution_count": 77,
   "metadata": {},
   "outputs": [
    {
     "output_type": "execute_result",
     "data": {
      "text/plain": [
       "0    0.188673\n",
       "2    0.185113\n",
       "1    0.172492\n",
       "3    0.167314\n",
       "5    0.149838\n",
       "4    0.136570\n",
       "Name: Activity, dtype: float64"
      ]
     },
     "metadata": {},
     "execution_count": 77
    }
   ],
   "source": [
    "y_test.value_counts(normalize=True)"
   ]
  },
  {
   "cell_type": "markdown",
   "metadata": {},
   "source": [
    "## Question 4\n",
    "\n",
    "* Fit a logistic regression model without any regularization using all of the features. Be sure to read the documentation about fitting a multi-class model so you understand the coefficient output. Store the model."
   ]
  },
  {
   "cell_type": "code",
   "execution_count": 78,
   "metadata": {
    "collapsed": true
   },
   "outputs": [],
   "source": [
    "from sklearn.linear_model import LogisticRegression\n",
    "\n",
    "# Standard logistic regressio\n",
    "model_lr = LogisticRegression().fit(X_train, y_train)"
   ]
  },
  {
   "cell_type": "code",
   "execution_count": 79,
   "metadata": {},
   "outputs": [],
   "source": [
    "predicted_activity = model_lr.predict(X_test)"
   ]
  },
  {
   "cell_type": "markdown",
   "metadata": {},
   "source": [
    "## Question 5\n",
    "\n",
    "Calculate the following error metric: \n",
    "\n",
    "* accuracy\n"
   ]
  },
  {
   "cell_type": "code",
   "execution_count": 80,
   "metadata": {},
   "outputs": [
    {
     "output_type": "execute_result",
     "data": {
      "text/plain": [
       "0.9805825242718447"
      ]
     },
     "metadata": {},
     "execution_count": 80
    }
   ],
   "source": [
    "accuracy = sum(predicted_activity==y_test) / len(y_test)\n",
    "accuracy"
   ]
  },
  {
   "cell_type": "code",
   "execution_count": null,
   "metadata": {
    "collapsed": true
   },
   "outputs": [],
   "source": []
  }
 ],
 "metadata": {
  "kernelspec": {
   "display_name": "Python 3",
   "language": "python",
   "name": "python3"
  },
  "language_info": {
   "codemirror_mode": {
    "name": "ipython",
    "version": 3
   },
   "file_extension": ".py",
   "mimetype": "text/x-python",
   "name": "python",
   "nbconvert_exporter": "python",
   "pygments_lexer": "ipython3",
   "version": "3.8.5-final"
  }
 },
 "nbformat": 4,
 "nbformat_minor": 2
}